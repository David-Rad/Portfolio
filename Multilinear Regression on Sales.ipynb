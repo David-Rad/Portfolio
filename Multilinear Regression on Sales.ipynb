{
 "cells": [
  {
   "cell_type": "markdown",
   "metadata": {},
   "source": [
    "# MLR on Sales Data\n"
   ]
  },
  {
   "cell_type": "markdown",
   "metadata": {},
   "source": [
    "#### Sales Data Set\n",
    "- from: http://www-bcf.usc.edu/~gareth/ISL/Advertising.csv\n",
    "\n",
    "The mission:\n",
    "Understand how each variable affects sales.\n",
    "\n",
    "\n",
    "#### Data Set Information:\n",
    "\n",
    "The variables used in the models are listed below:\n",
    "\n",
    "- TV: advertising dollars spent on TV for a single product in a given market (in thousands of dollars)\n",
    "- Radio: advertising dollars spent on Radio\n",
    "- Newspaper: advertising dollars spent on Newspaper\n",
    "- Sales: in thousands of items\n",
    "\n",
    "\n",
    "\n",
    "## Goals of this ipynb\n",
    "In this notebook we will:\n",
    "- imported data\n",
    "- Visualize the data and checked for correlations\n",
    "- Test, train, split\n",
    "- Validate the model with cross validation\n",
    "- Derive detailed infomormation to inform us about the model\n",
    "- Graph the model and the residuals so we could check for heteroscedacity\n",
    "- Analyze the coefficients to determine what role each variable plays in sales"
   ]
  },
  {
   "cell_type": "code",
   "execution_count": 1,
   "metadata": {},
   "outputs": [],
   "source": [
    "# Import packages\n",
    "import pandas as pd\n",
    "import numpy as np\n",
    "import sklearn.linear_model \n",
    "import matplotlib.pyplot as plt\n",
    "import statsmodels.formula.api as sm\n",
    "from sklearn.linear_model import LinearRegression\n",
    "from sklearn.model_selection import cross_val_score\n",
    "% matplotlib inline\n",
    "\n",
    "from sklearn.model_selection import train_test_split\n",
    "\n",
    "# this allows plots to appear directly in the notebook\n",
    "%matplotlib inline"
   ]
  },
  {
   "cell_type": "code",
   "execution_count": 2,
   "metadata": {
    "scrolled": false
   },
   "outputs": [
    {
     "data": {
      "text/html": [
       "<div>\n",
       "<style scoped>\n",
       "    .dataframe tbody tr th:only-of-type {\n",
       "        vertical-align: middle;\n",
       "    }\n",
       "\n",
       "    .dataframe tbody tr th {\n",
       "        vertical-align: top;\n",
       "    }\n",
       "\n",
       "    .dataframe thead th {\n",
       "        text-align: right;\n",
       "    }\n",
       "</style>\n",
       "<table border=\"1\" class=\"dataframe\">\n",
       "  <thead>\n",
       "    <tr style=\"text-align: right;\">\n",
       "      <th></th>\n",
       "      <th>TV</th>\n",
       "      <th>radio</th>\n",
       "      <th>newspaper</th>\n",
       "      <th>sales</th>\n",
       "    </tr>\n",
       "  </thead>\n",
       "  <tbody>\n",
       "    <tr>\n",
       "      <th>1</th>\n",
       "      <td>230.1</td>\n",
       "      <td>37.8</td>\n",
       "      <td>69.2</td>\n",
       "      <td>22.1</td>\n",
       "    </tr>\n",
       "    <tr>\n",
       "      <th>2</th>\n",
       "      <td>44.5</td>\n",
       "      <td>39.3</td>\n",
       "      <td>45.1</td>\n",
       "      <td>10.4</td>\n",
       "    </tr>\n",
       "    <tr>\n",
       "      <th>3</th>\n",
       "      <td>17.2</td>\n",
       "      <td>45.9</td>\n",
       "      <td>69.3</td>\n",
       "      <td>9.3</td>\n",
       "    </tr>\n",
       "    <tr>\n",
       "      <th>4</th>\n",
       "      <td>151.5</td>\n",
       "      <td>41.3</td>\n",
       "      <td>58.5</td>\n",
       "      <td>18.5</td>\n",
       "    </tr>\n",
       "    <tr>\n",
       "      <th>5</th>\n",
       "      <td>180.8</td>\n",
       "      <td>10.8</td>\n",
       "      <td>58.4</td>\n",
       "      <td>12.9</td>\n",
       "    </tr>\n",
       "  </tbody>\n",
       "</table>\n",
       "</div>"
      ],
      "text/plain": [
       "      TV  radio  newspaper  sales\n",
       "1  230.1   37.8       69.2   22.1\n",
       "2   44.5   39.3       45.1   10.4\n",
       "3   17.2   45.9       69.3    9.3\n",
       "4  151.5   41.3       58.5   18.5\n",
       "5  180.8   10.8       58.4   12.9"
      ]
     },
     "execution_count": 2,
     "metadata": {},
     "output_type": "execute_result"
    }
   ],
   "source": [
    "# read data into a DataFrame\n",
    "df = pd.read_csv('http://www-bcf.usc.edu/~gareth/ISL/Advertising.csv', index_col=0)\n",
    "df.head()"
   ]
  },
  {
   "cell_type": "code",
   "execution_count": 3,
   "metadata": {},
   "outputs": [
    {
     "data": {
      "text/plain": [
       "(200, 4)"
      ]
     },
     "execution_count": 3,
     "metadata": {},
     "output_type": "execute_result"
    }
   ],
   "source": [
    "# print the shape of the DataFrame\n",
    "df.shape"
   ]
  },
  {
   "cell_type": "code",
   "execution_count": 4,
   "metadata": {
    "scrolled": true
   },
   "outputs": [
    {
     "data": {
      "text/plain": [
       "<matplotlib.axes._subplots.AxesSubplot at 0x1a23823438>"
      ]
     },
     "execution_count": 4,
     "metadata": {},
     "output_type": "execute_result"
    },
    {
     "data": {
      "image/png": "[encoded data removed]",
      "text/plain": [
       "<Figure size 1152x576 with 3 Axes>"
      ]
     },
     "metadata": {
      "needs_background": "light"
     },
     "output_type": "display_data"
    }
   ],
   "source": [
    "# visualize the relationship between the features and the response using scatterplots\n",
    "fig, axs = plt.subplots(1, 3, sharey=True)\n",
    "df.plot(kind='scatter', x='TV', y='sales', ax=axs[0], figsize=(16, 8))\n",
    "df.plot(kind='scatter', x='radio', y='sales', ax=axs[1])\n",
    "df.plot(kind='scatter', x='newspaper', y='sales', ax=axs[2])"
   ]
  },
  {
   "cell_type": "markdown",
   "metadata": {},
   "source": [
    "# Prepare X and y\n"
   ]
  },
  {
   "cell_type": "code",
   "execution_count": 5,
   "metadata": {},
   "outputs": [
    {
     "data": {
      "text/plain": [
       "Index(['TV', 'radio', 'newspaper', 'sales'], dtype='object')"
      ]
     },
     "execution_count": 5,
     "metadata": {},
     "output_type": "execute_result"
    }
   ],
   "source": [
    "# Column names\n",
    "\n",
    "df.columns"
   ]
  },
  {
   "cell_type": "code",
   "execution_count": 6,
   "metadata": {},
   "outputs": [
    {
     "data": {
      "text/plain": [
       "TV           0\n",
       "radio        0\n",
       "newspaper    0\n",
       "sales        0\n",
       "dtype: int64"
      ]
     },
     "execution_count": 6,
     "metadata": {},
     "output_type": "execute_result"
    }
   ],
   "source": [
    "df.isnull().sum()"
   ]
  },
  {
   "cell_type": "code",
   "execution_count": 7,
   "metadata": {},
   "outputs": [
    {
     "data": {
      "text/html": [
       "<div>\n",
       "<style scoped>\n",
       "    .dataframe tbody tr th:only-of-type {\n",
       "        vertical-align: middle;\n",
       "    }\n",
       "\n",
       "    .dataframe tbody tr th {\n",
       "        vertical-align: top;\n",
       "    }\n",
       "\n",
       "    .dataframe thead th {\n",
       "        text-align: right;\n",
       "    }\n",
       "</style>\n",
       "<table border=\"1\" class=\"dataframe\">\n",
       "  <thead>\n",
       "    <tr style=\"text-align: right;\">\n",
       "      <th></th>\n",
       "      <th>TV</th>\n",
       "      <th>radio</th>\n",
       "      <th>newspaper</th>\n",
       "      <th>sales</th>\n",
       "    </tr>\n",
       "  </thead>\n",
       "  <tbody>\n",
       "    <tr>\n",
       "      <th>1</th>\n",
       "      <td>230.1</td>\n",
       "      <td>37.8</td>\n",
       "      <td>69.2</td>\n",
       "      <td>22.1</td>\n",
       "    </tr>\n",
       "    <tr>\n",
       "      <th>2</th>\n",
       "      <td>44.5</td>\n",
       "      <td>39.3</td>\n",
       "      <td>45.1</td>\n",
       "      <td>10.4</td>\n",
       "    </tr>\n",
       "    <tr>\n",
       "      <th>3</th>\n",
       "      <td>17.2</td>\n",
       "      <td>45.9</td>\n",
       "      <td>69.3</td>\n",
       "      <td>9.3</td>\n",
       "    </tr>\n",
       "    <tr>\n",
       "      <th>4</th>\n",
       "      <td>151.5</td>\n",
       "      <td>41.3</td>\n",
       "      <td>58.5</td>\n",
       "      <td>18.5</td>\n",
       "    </tr>\n",
       "    <tr>\n",
       "      <th>5</th>\n",
       "      <td>180.8</td>\n",
       "      <td>10.8</td>\n",
       "      <td>58.4</td>\n",
       "      <td>12.9</td>\n",
       "    </tr>\n",
       "  </tbody>\n",
       "</table>\n",
       "</div>"
      ],
      "text/plain": [
       "      TV  radio  newspaper  sales\n",
       "1  230.1   37.8       69.2   22.1\n",
       "2   44.5   39.3       45.1   10.4\n",
       "3   17.2   45.9       69.3    9.3\n",
       "4  151.5   41.3       58.5   18.5\n",
       "5  180.8   10.8       58.4   12.9"
      ]
     },
     "execution_count": 7,
     "metadata": {},
     "output_type": "execute_result"
    }
   ],
   "source": [
    "# create a Python list of feature names\n",
    "feature_cols = ['TV', 'radio', 'newspaper', 'sales']\n",
    "\n",
    "\n",
    "df.head()"
   ]
  },
  {
   "cell_type": "code",
   "execution_count": 8,
   "metadata": {
    "scrolled": true
   },
   "outputs": [
    {
     "data": {
      "text/html": [
       "<div>\n",
       "<style scoped>\n",
       "    .dataframe tbody tr th:only-of-type {\n",
       "        vertical-align: middle;\n",
       "    }\n",
       "\n",
       "    .dataframe tbody tr th {\n",
       "        vertical-align: top;\n",
       "    }\n",
       "\n",
       "    .dataframe thead th {\n",
       "        text-align: right;\n",
       "    }\n",
       "</style>\n",
       "<table border=\"1\" class=\"dataframe\">\n",
       "  <thead>\n",
       "    <tr style=\"text-align: right;\">\n",
       "      <th></th>\n",
       "      <th>TV</th>\n",
       "      <th>radio</th>\n",
       "      <th>newspaper</th>\n",
       "    </tr>\n",
       "  </thead>\n",
       "  <tbody>\n",
       "    <tr>\n",
       "      <th>1</th>\n",
       "      <td>230.1</td>\n",
       "      <td>37.8</td>\n",
       "      <td>69.2</td>\n",
       "    </tr>\n",
       "    <tr>\n",
       "      <th>2</th>\n",
       "      <td>44.5</td>\n",
       "      <td>39.3</td>\n",
       "      <td>45.1</td>\n",
       "    </tr>\n",
       "    <tr>\n",
       "      <th>3</th>\n",
       "      <td>17.2</td>\n",
       "      <td>45.9</td>\n",
       "      <td>69.3</td>\n",
       "    </tr>\n",
       "    <tr>\n",
       "      <th>4</th>\n",
       "      <td>151.5</td>\n",
       "      <td>41.3</td>\n",
       "      <td>58.5</td>\n",
       "    </tr>\n",
       "    <tr>\n",
       "      <th>5</th>\n",
       "      <td>180.8</td>\n",
       "      <td>10.8</td>\n",
       "      <td>58.4</td>\n",
       "    </tr>\n",
       "  </tbody>\n",
       "</table>\n",
       "</div>"
      ],
      "text/plain": [
       "      TV  radio  newspaper\n",
       "1  230.1   37.8       69.2\n",
       "2   44.5   39.3       45.1\n",
       "3   17.2   45.9       69.3\n",
       "4  151.5   41.3       58.5\n",
       "5  180.8   10.8       58.4"
      ]
     },
     "execution_count": 8,
     "metadata": {},
     "output_type": "execute_result"
    }
   ],
   "source": [
    "# experiment to drop more\n",
    "X = df.iloc[:, :3]\n",
    "\n",
    "\n",
    "\n",
    "# print the first 5 rows\n",
    "X.head()\n"
   ]
  },
  {
   "cell_type": "code",
   "execution_count": 9,
   "metadata": {},
   "outputs": [
    {
     "data": {
      "text/plain": [
       "(200,)"
      ]
     },
     "execution_count": 9,
     "metadata": {},
     "output_type": "execute_result"
    }
   ],
   "source": [
    "# Set y\n",
    "\n",
    "y=df.sales\n",
    "y.shape"
   ]
  },
  {
   "cell_type": "markdown",
   "metadata": {},
   "source": [
    "## Check for correlations"
   ]
  },
  {
   "cell_type": "code",
   "execution_count": 10,
   "metadata": {
    "scrolled": false
   },
   "outputs": [
    {
     "data": {
      "text/html": [
       "<style  type=\"text/css\" >\n",
       "    #T_44a39c38_fd56_11e8_aaff_a45e60e50c0drow0_col0 {\n",
       "            background-color:  #800026;\n",
       "            font-size:  14pt;\n",
       "        }    #T_44a39c38_fd56_11e8_aaff_a45e60e50c0drow0_col1 {\n",
       "            background-color:  #ffffcc;\n",
       "            font-size:  14pt;\n",
       "        }    #T_44a39c38_fd56_11e8_aaff_a45e60e50c0drow0_col2 {\n",
       "            background-color:  #ffffcc;\n",
       "            font-size:  14pt;\n",
       "        }    #T_44a39c38_fd56_11e8_aaff_a45e60e50c0drow1_col0 {\n",
       "            background-color:  #fffecb;\n",
       "            font-size:  14pt;\n",
       "        }    #T_44a39c38_fd56_11e8_aaff_a45e60e50c0drow1_col1 {\n",
       "            background-color:  #800026;\n",
       "            font-size:  14pt;\n",
       "        }    #T_44a39c38_fd56_11e8_aaff_a45e60e50c0drow1_col2 {\n",
       "            background-color:  #ffe58f;\n",
       "            font-size:  14pt;\n",
       "        }    #T_44a39c38_fd56_11e8_aaff_a45e60e50c0drow2_col0 {\n",
       "            background-color:  #ffffcc;\n",
       "            font-size:  14pt;\n",
       "        }    #T_44a39c38_fd56_11e8_aaff_a45e60e50c0drow2_col1 {\n",
       "            background-color:  #ffe590;\n",
       "            font-size:  14pt;\n",
       "        }    #T_44a39c38_fd56_11e8_aaff_a45e60e50c0drow2_col2 {\n",
       "            background-color:  #800026;\n",
       "            font-size:  14pt;\n",
       "        }</style>  \n",
       "<table id=\"T_44a39c38_fd56_11e8_aaff_a45e60e50c0d\" > \n",
       "<thead>    <tr> \n",
       "        <th class=\"blank level0\" ></th> \n",
       "        <th class=\"col_heading level0 col0\" >TV</th> \n",
       "        <th class=\"col_heading level0 col1\" >radio</th> \n",
       "        <th class=\"col_heading level0 col2\" >newspaper</th> \n",
       "    </tr></thead> \n",
       "<tbody>    <tr> \n",
       "        <th id=\"T_44a39c38_fd56_11e8_aaff_a45e60e50c0dlevel0_row0\" class=\"row_heading level0 row0\" >TV</th> \n",
       "        <td id=\"T_44a39c38_fd56_11e8_aaff_a45e60e50c0drow0_col0\" class=\"data row0 col0\" >1</td> \n",
       "        <td id=\"T_44a39c38_fd56_11e8_aaff_a45e60e50c0drow0_col1\" class=\"data row0 col1\" >0.0412</td> \n",
       "        <td id=\"T_44a39c38_fd56_11e8_aaff_a45e60e50c0drow0_col2\" class=\"data row0 col2\" >0.03416</td> \n",
       "    </tr>    <tr> \n",
       "        <th id=\"T_44a39c38_fd56_11e8_aaff_a45e60e50c0dlevel0_row1\" class=\"row_heading level0 row1\" >radio</th> \n",
       "        <td id=\"T_44a39c38_fd56_11e8_aaff_a45e60e50c0drow1_col0\" class=\"data row1 col0\" >0.0412</td> \n",
       "        <td id=\"T_44a39c38_fd56_11e8_aaff_a45e60e50c0drow1_col1\" class=\"data row1 col1\" >1</td> \n",
       "        <td id=\"T_44a39c38_fd56_11e8_aaff_a45e60e50c0drow1_col2\" class=\"data row1 col2\" >0.2071</td> \n",
       "    </tr>    <tr> \n",
       "        <th id=\"T_44a39c38_fd56_11e8_aaff_a45e60e50c0dlevel0_row2\" class=\"row_heading level0 row2\" >newspaper</th> \n",
       "        <td id=\"T_44a39c38_fd56_11e8_aaff_a45e60e50c0drow2_col0\" class=\"data row2 col0\" >0.03416</td> \n",
       "        <td id=\"T_44a39c38_fd56_11e8_aaff_a45e60e50c0drow2_col1\" class=\"data row2 col1\" >0.2071</td> \n",
       "        <td id=\"T_44a39c38_fd56_11e8_aaff_a45e60e50c0drow2_col2\" class=\"data row2 col2\" >1</td> \n",
       "    </tr></tbody> \n",
       "</table> "
      ],
      "text/plain": [
       "<pandas.io.formats.style.Styler at 0x1a24266320>"
      ]
     },
     "execution_count": 10,
     "metadata": {},
     "output_type": "execute_result"
    }
   ],
   "source": [
    "# Make Correltion grid\n",
    "corr = X.corr(method='kendall')\n",
    "corr.style.background_gradient(cmap='YlOrRd').set_precision(4).set_properties(**{'font-size': '14pt'})\n",
    "\n"
   ]
  },
  {
   "cell_type": "code",
   "execution_count": 11,
   "metadata": {
    "scrolled": true
   },
   "outputs": [
    {
     "data": {
      "text/html": [
       "<style  type=\"text/css\" >\n",
       "    #T_44b6c2e8_fd56_11e8_b05a_a45e60e50c0drow0_col0 {\n",
       "            background-color:  #800026;\n",
       "            font-size:  14pt;\n",
       "        }    #T_44b6c2e8_fd56_11e8_b05a_a45e60e50c0drow0_col1 {\n",
       "            background-color:  #ffffcc;\n",
       "            font-size:  14pt;\n",
       "        }    #T_44b6c2e8_fd56_11e8_b05a_a45e60e50c0drow0_col2 {\n",
       "            background-color:  #ffffcc;\n",
       "            font-size:  14pt;\n",
       "        }    #T_44b6c2e8_fd56_11e8_b05a_a45e60e50c0drow1_col0 {\n",
       "            background-color:  #ffffcc;\n",
       "            font-size:  14pt;\n",
       "        }    #T_44b6c2e8_fd56_11e8_b05a_a45e60e50c0drow1_col1 {\n",
       "            background-color:  #800026;\n",
       "            font-size:  14pt;\n",
       "        }    #T_44b6c2e8_fd56_11e8_b05a_a45e60e50c0drow1_col2 {\n",
       "            background-color:  #fec561;\n",
       "            font-size:  14pt;\n",
       "        }    #T_44b6c2e8_fd56_11e8_b05a_a45e60e50c0drow2_col0 {\n",
       "            background-color:  #ffffcc;\n",
       "            font-size:  14pt;\n",
       "        }    #T_44b6c2e8_fd56_11e8_b05a_a45e60e50c0drow2_col1 {\n",
       "            background-color:  #fec45f;\n",
       "            font-size:  14pt;\n",
       "        }    #T_44b6c2e8_fd56_11e8_b05a_a45e60e50c0drow2_col2 {\n",
       "            background-color:  #800026;\n",
       "            font-size:  14pt;\n",
       "        }</style>  \n",
       "<table id=\"T_44b6c2e8_fd56_11e8_b05a_a45e60e50c0d\" > \n",
       "<thead>    <tr> \n",
       "        <th class=\"blank level0\" ></th> \n",
       "        <th class=\"col_heading level0 col0\" >TV</th> \n",
       "        <th class=\"col_heading level0 col1\" >radio</th> \n",
       "        <th class=\"col_heading level0 col2\" >newspaper</th> \n",
       "    </tr></thead> \n",
       "<tbody>    <tr> \n",
       "        <th id=\"T_44b6c2e8_fd56_11e8_b05a_a45e60e50c0dlevel0_row0\" class=\"row_heading level0 row0\" >TV</th> \n",
       "        <td id=\"T_44b6c2e8_fd56_11e8_b05a_a45e60e50c0drow0_col0\" class=\"data row0 col0\" >1</td> \n",
       "        <td id=\"T_44b6c2e8_fd56_11e8_b05a_a45e60e50c0drow0_col1\" class=\"data row0 col1\" >0.05481</td> \n",
       "        <td id=\"T_44b6c2e8_fd56_11e8_b05a_a45e60e50c0drow0_col2\" class=\"data row0 col2\" >0.05665</td> \n",
       "    </tr>    <tr> \n",
       "        <th id=\"T_44b6c2e8_fd56_11e8_b05a_a45e60e50c0dlevel0_row1\" class=\"row_heading level0 row1\" >radio</th> \n",
       "        <td id=\"T_44b6c2e8_fd56_11e8_b05a_a45e60e50c0drow1_col0\" class=\"data row1 col0\" >0.05481</td> \n",
       "        <td id=\"T_44b6c2e8_fd56_11e8_b05a_a45e60e50c0drow1_col1\" class=\"data row1 col1\" >1</td> \n",
       "        <td id=\"T_44b6c2e8_fd56_11e8_b05a_a45e60e50c0drow1_col2\" class=\"data row1 col2\" >0.3541</td> \n",
       "    </tr>    <tr> \n",
       "        <th id=\"T_44b6c2e8_fd56_11e8_b05a_a45e60e50c0dlevel0_row2\" class=\"row_heading level0 row2\" >newspaper</th> \n",
       "        <td id=\"T_44b6c2e8_fd56_11e8_b05a_a45e60e50c0drow2_col0\" class=\"data row2 col0\" >0.05665</td> \n",
       "        <td id=\"T_44b6c2e8_fd56_11e8_b05a_a45e60e50c0drow2_col1\" class=\"data row2 col1\" >0.3541</td> \n",
       "        <td id=\"T_44b6c2e8_fd56_11e8_b05a_a45e60e50c0drow2_col2\" class=\"data row2 col2\" >1</td> \n",
       "    </tr></tbody> \n",
       "</table> "
      ],
      "text/plain": [
       "<pandas.io.formats.style.Styler at 0x10fce9438>"
      ]
     },
     "execution_count": 11,
     "metadata": {},
     "output_type": "execute_result"
    }
   ],
   "source": [
    "# Make Correltion grid\n",
    "corr = X.corr(method='pearson')\n",
    "corr.style.background_gradient(cmap='YlOrRd').set_precision(4).set_properties(**{'font-size': '14pt'})\n",
    "\n"
   ]
  },
  {
   "cell_type": "markdown",
   "metadata": {},
   "source": [
    "Kendall-Tau correlation is often better to evaluate, but neither shows strong correlations that might interfere with the MLR.\n",
    "#### No substantial correlations exist."
   ]
  },
  {
   "cell_type": "markdown",
   "metadata": {},
   "source": [
    "# Simple Linear Regression"
   ]
  },
  {
   "cell_type": "code",
   "execution_count": 12,
   "metadata": {
    "scrolled": true
   },
   "outputs": [
    {
     "data": {
      "text/plain": [
       "array([17.18608932,  9.39058407, 16.90450124, 18.10652114, 21.7106274 ,\n",
       "        5.46739391, 12.92166633,  6.94477863, 15.25337591, 11.87065573,\n",
       "        6.65660838,  7.93892674, 16.25897114,  9.72759953, 23.4995226 ,\n",
       "       22.07203825, 13.8287758 , 18.36893436, 12.58413089, 14.02510967,\n",
       "       10.90087639,  6.25273721, 21.52716909,  8.80727045,  9.84273428,\n",
       "       20.48651995,  6.66608693, 13.83857719, 12.53814824, 18.29046053,\n",
       "        7.72475017, 21.1108397 , 19.23625005, 13.7904886 , 17.16622911,\n",
       "        8.97477691, 13.29132728,  6.61048994, 10.22250112, 20.12974481])"
      ]
     },
     "execution_count": 12,
     "metadata": {},
     "output_type": "execute_result"
    }
   ],
   "source": [
    "X_train, X_test, y_train, y_test = train_test_split(X, y, test_size=0.2, random_state=98)\n",
    "X_train.shape, y_test.shape\n",
    "\n",
    "clf = LinearRegression()\n",
    "clf.fit(X_train,y_train)\n",
    "clf.score(X_test, y_test)\n",
    "clf.predict(X_test)"
   ]
  },
  {
   "cell_type": "code",
   "execution_count": 13,
   "metadata": {},
   "outputs": [
    {
     "data": {
      "text/plain": [
       "(3.1329053722276896, 0.9400331814664702)"
      ]
     },
     "execution_count": 13,
     "metadata": {},
     "output_type": "execute_result"
    }
   ],
   "source": [
    "clf.intercept_, clf.score(X_test, y_test)"
   ]
  },
  {
   "cell_type": "markdown",
   "metadata": {},
   "source": [
    "### Our model scored well on the first try, with an R2 of 0.9400."
   ]
  },
  {
   "cell_type": "markdown",
   "metadata": {},
   "source": [
    "### Our model did well on the first try, however test/train/split has high variance. The scores can vary depending on the split and random state. Let's use the mean of cross validation scores to get a more accurate score for our model.\n"
   ]
  },
  {
   "cell_type": "markdown",
   "metadata": {},
   "source": [
    "# Cross validation"
   ]
  },
  {
   "cell_type": "code",
   "execution_count": 14,
   "metadata": {},
   "outputs": [
    {
     "name": "stdout",
     "output_type": "stream",
     "text": [
      "{'fit_time': array([0.00542498, 0.00423717, 0.01033187, 0.0039742 , 0.00294924,\n",
      "       0.00248599, 0.00249314, 0.00237632, 0.00254583, 0.0015099 ]), 'score_time': array([0.00933623, 0.00346994, 0.00444627, 0.00347805, 0.00244594,\n",
      "       0.00198388, 0.00187492, 0.00202394, 0.0016191 , 0.00147605]), 'test_r2': array([0.87302696, 0.8581613 , 0.92968723, 0.89013272, 0.93146498,\n",
      "       0.93138735, 0.7597901 , 0.91217097, 0.83891753, 0.92882311]), 'train_r2': array([0.89876249, 0.90011256, 0.89101495, 0.8973717 , 0.89392771,\n",
      "       0.89346698, 0.91380217, 0.89553515, 0.90075721, 0.89235558]), 'test_neg_mean_squared_error': array([-3.56038438, -3.29767522, -2.08943356, -2.82474283, -1.3027754 ,\n",
      "       -1.74163618, -8.17338214, -2.11409746, -3.04273109, -2.45281793]), 'train_neg_mean_squared_error': array([-2.72787608, -2.74639174, -2.86826637, -2.78971581, -2.95331612,\n",
      "       -2.90554922, -2.24672817, -2.86070984, -2.77705137, -2.82741888])}\n"
     ]
    }
   ],
   "source": [
    "# provides many metrics\n",
    "from sklearn.model_selection import cross_validate\n",
    "model = LinearRegression()\n",
    "\n",
    "cross_scores = cross_validate(model, X, y, cv=10,\\\n",
    "                        scoring=('r2', 'neg_mean_squared_error'), \\\n",
    "                              return_train_score=True)\n",
    "print(cross_scores)\n",
    "\n"
   ]
  },
  {
   "cell_type": "code",
   "execution_count": 15,
   "metadata": {
    "scrolled": true
   },
   "outputs": [
    {
     "name": "stdout",
     "output_type": "stream",
     "text": [
      "R2 mean of train: 0.8977106511432211\n",
      "[0.89876249 0.90011256 0.89101495 0.8973717  0.89392771 0.89346698\n",
      " 0.91380217 0.89553515 0.90075721 0.89235558]\n",
      "\n",
      "R2 mean of test: 0.8853562237979616\n",
      "[0.87302696 0.8581613  0.92968723 0.89013272 0.93146498 0.93138735\n",
      " 0.7597901  0.91217097 0.83891753 0.92882311]\n"
     ]
    }
   ],
   "source": [
    "print('R2 mean of train:',cross_scores['train_r2'].mean())\n",
    "print(cross_scores['train_r2'])\n",
    "\n",
    "print('\\nR2 mean of test:',cross_scores['test_r2'].mean())\n",
    "print(cross_scores['test_r2'])"
   ]
  },
  {
   "cell_type": "code",
   "execution_count": 16,
   "metadata": {},
   "outputs": [
    {
     "name": "stdout",
     "output_type": "stream",
     "text": [
      "fit_time\n",
      "score_time\n",
      "test_r2\n",
      "train_r2\n",
      "test_neg_mean_squared_error\n",
      "train_neg_mean_squared_error\n"
     ]
    }
   ],
   "source": [
    "# examine metrics available\n",
    "\n",
    "for key, value in cross_scores.items() :\n",
    "    print (key)"
   ]
  },
  {
   "cell_type": "code",
   "execution_count": 17,
   "metadata": {
    "scrolled": true
   },
   "outputs": [
    {
     "name": "stdout",
     "output_type": "stream",
     "text": [
      "\n",
      "\t ** Cross Validation Training Sets **\n",
      "MSE Cross Validation Train: 2.770302360080497\n",
      "RMSE Cross Validation Train: 1.66442253051336\n",
      "R2 Cross Validation Train: 0.8977106511432211\n",
      "\n",
      "\t** Cross Validation Test Sets **\n",
      "MSE Cross Validation Test: 3.059967618118513\n",
      "RMSE Cross Validation Test: 1.7492763126843378\n",
      "R2 Cross Validation Test: 0.8853562237979616\n"
     ]
    }
   ],
   "source": [
    "# MSE, RMSE and R2\n",
    "from sklearn.metrics import mean_squared_error\n",
    "\n",
    "\n",
    "# Test\n",
    "mse_cross_val_test= -cross_scores['test_neg_mean_squared_error'].mean()\n",
    "rmse_cross_val_test=np.sqrt(mse_cross_val_test)\n",
    "r2_cross_val_test = cross_scores['test_r2'].mean()\n",
    "\n",
    "# Train\n",
    "mse_cross_val_train= -cross_scores['train_neg_mean_squared_error'].mean()\n",
    "rmse_cross_val_train=np.sqrt(mse_cross_val_train)\n",
    "r2_cross_val_train = cross_scores['train_r2'].mean()\n",
    "\n",
    "\n",
    "\n",
    "print('\\n\\t ** Cross Validation Training Sets **')\n",
    "print('MSE Cross Validation Train:',mse_cross_val_train)\n",
    "print('RMSE Cross Validation Train:',   rmse_cross_val_train)\n",
    "print('R2 Cross Validation Train:',r2_cross_val_train)\n",
    "\n",
    "print('\\n\\t** Cross Validation Test Sets **')\n",
    "print('MSE Cross Validation Test:',mse_cross_val_test)\n",
    "print('RMSE Cross Validation Test:',rmse_cross_val_test)\n",
    "print('R2 Cross Validation Test:',r2_cross_val_test )\n",
    "\n"
   ]
  },
  {
   "cell_type": "code",
   "execution_count": 18,
   "metadata": {},
   "outputs": [
    {
     "name": "stdout",
     "output_type": "stream",
     "text": [
      "Adjusted R2 Cross Validation Test: 0.8792103718778523\n",
      "Adjusted R2 Cross Validation Train: 0.8944191621948594\n"
     ]
    }
   ],
   "source": [
    "# Adjusted R of Cross Validation\n",
    "\n",
    "adj_cross_val_train = 1-(1-r2_cross_val_train)*(835-1)/(835-26-1)\n",
    "adj_cross_val_test = 1-(1-r2_cross_val_test)*(512-1)/(512-26-1)\n",
    "\n",
    "print('Adjusted R2 Cross Validation Test:',adj_cross_val_test)\n",
    "\n",
    "print('Adjusted R2 Cross Validation Train:',adj_cross_val_train)\n"
   ]
  },
  {
   "cell_type": "markdown",
   "metadata": {},
   "source": [
    "# Plot Cross Validation"
   ]
  },
  {
   "cell_type": "code",
   "execution_count": 19,
   "metadata": {},
   "outputs": [],
   "source": [
    "from sklearn import linear_model \n",
    "from sklearn.model_selection import cross_val_predict\n",
    "\n",
    "y_pred=cross_val_predict(model, X, y, cv=10)\n",
    "\n",
    "residuals = y - y_pred"
   ]
  },
  {
   "cell_type": "code",
   "execution_count": 20,
   "metadata": {
    "scrolled": true
   },
   "outputs": [
    {
     "data": {
      "image/png": "[encoded data removed]",
      "text/plain": [
       "<Figure size 432x288 with 1 Axes>"
      ]
     },
     "metadata": {
      "needs_background": "light"
     },
     "output_type": "display_data"
    }
   ],
   "source": [
    "from sklearn import datasets\n",
    "from sklearn.model_selection import cross_val_predict\n",
    "from sklearn import linear_model\n",
    "import matplotlib.pyplot as plt\n",
    "\n",
    "\n",
    "\n",
    "# cross_val_predict returns an array of the same size as `y` where each entry\n",
    "# is a prediction obtained by cross validation:\n",
    "predicted = cross_val_predict(model, X, y, cv=3)\n",
    "\n",
    "fig, ax = plt.subplots()\n",
    "ax.scatter(y, y_pred, edgecolors=(0, 0, 0))\n",
    "ax.plot([y.min(), y.max()], [y.min(), y.max()], 'k--', lw=4)\n",
    "ax.set_xlabel('Measured')\n",
    "ax.set_ylabel('Predicted')\n",
    "ax.set_title('Predicted vs. Actual')\n",
    "plt.show()"
   ]
  },
  {
   "cell_type": "markdown",
   "metadata": {},
   "source": [
    "# Plot the predicted value versus the residual"
   ]
  },
  {
   "cell_type": "code",
   "execution_count": 21,
   "metadata": {},
   "outputs": [
    {
     "data": {
      "image/png": "[encoded data removed]",
      "text/plain": [
       "<Figure size 432x288 with 1 Axes>"
      ]
     },
     "metadata": {
      "needs_background": "light"
     },
     "output_type": "display_data"
    }
   ],
   "source": [
    "fig, ax = plt.subplots()\n",
    "ax.scatter(y_pred, residuals, edgecolors=(0, 0, 0))\n",
    "#ax.plot([y_pred.min(), y_pred.max()], [y_pred.min(), y_pred.max()])\n",
    "ax.set_xlabel('Predicted Value for y')\n",
    "ax.set_ylabel('')\n",
    "ax.set_title('Residuals vs. Predicted')\n",
    "\n",
    "\n",
    "# Calculate the simple average of the data\n",
    "y_mean = [np.mean(residuals)]*len(y_pred)\n",
    "\n",
    "# Plot the average line\n",
    "mean_line = ax.plot(y_pred,y_mean, label='Mean', linestyle='--', color='red')\n",
    "\n",
    "# Make a legend\n",
    "#legend = ax.legend(loc='upper right')"
   ]
  },
  {
   "cell_type": "markdown",
   "metadata": {},
   "source": [
    "The residuals are spread out and don't display any strong pattern. The residuals demonstrate homoscedacity."
   ]
  },
  {
   "cell_type": "markdown",
   "metadata": {},
   "source": [
    "## Evaluate Coefficients\n"
   ]
  },
  {
   "cell_type": "code",
   "execution_count": 22,
   "metadata": {},
   "outputs": [
    {
     "data": {
      "text/plain": [
       "array([ 0.04457497,  0.1862015 , -0.0014397 ])"
      ]
     },
     "execution_count": 22,
     "metadata": {},
     "output_type": "execute_result"
    }
   ],
   "source": [
    "clf.coef_"
   ]
  },
  {
   "cell_type": "code",
   "execution_count": 23,
   "metadata": {},
   "outputs": [
    {
     "data": {
      "text/plain": [
       "['TV', 'radio', 'newspaper', 'sales']"
      ]
     },
     "execution_count": 23,
     "metadata": {},
     "output_type": "execute_result"
    }
   ],
   "source": [
    "feature_cols"
   ]
  },
  {
   "cell_type": "code",
   "execution_count": 24,
   "metadata": {
    "scrolled": true
   },
   "outputs": [
    {
     "name": "stdout",
     "output_type": "stream",
     "text": [
      "3.1329053722276896\n",
      "[ 0.04457497  0.1862015  -0.0014397 ]\n"
     ]
    }
   ],
   "source": [
    "# print the intercept and coefficients\n",
    "print(clf.intercept_)\n",
    "print(clf.coef_)"
   ]
  },
  {
   "cell_type": "code",
   "execution_count": 25,
   "metadata": {
    "scrolled": true
   },
   "outputs": [
    {
     "data": {
      "text/plain": [
       "[('TV', 0.0445749719979352),\n",
       " ('radio', 0.1862015014707931),\n",
       " ('newspaper', -0.0014396961914510114)]"
      ]
     },
     "execution_count": 25,
     "metadata": {},
     "output_type": "execute_result"
    }
   ],
   "source": [
    "# pair the feature names with the coefficients\n",
    "list(zip(feature_cols, clf.coef_))"
   ]
  },
  {
   "cell_type": "markdown",
   "metadata": {},
   "source": [
    "# Summary\n",
    "\n",
    "Let's look at what we accomplished in this notebook:\n",
    "\n",
    "- Imported data\n",
    "- Visualized the data and checked for correlations\n",
    "- Test, train, split\n",
    "- Validated the model with cross validation\n",
    "- Checked for correlations that might interfere with our MLR\n",
    "- Derived detailed infomormation to inform us about the model\n",
    "- Graphed the model and the residuals so we could check for heteroscedacity"
   ]
  },
  {
   "cell_type": "markdown",
   "metadata": {},
   "source": [
    "### Detailed information about the final model\n",
    "\t** Cross Validation Test Sets **\n",
    "- MSE Cross Validation Test: 3.059967618118513\n",
    "- RMSE Cross Validation Test: 1.7492763126843378\n",
    "- R2 Cross Validation Test: 0.8853562237979616\n",
    "    \n",
    "- Adjusted R2 Cross Validation Test: 0.8792103718778523\n",
    "- Adjusted R2 Cross Validation Train: 0.8944191621948594"
   ]
  },
  {
   "cell_type": "markdown",
   "metadata": {},
   "source": [
    "$$y  = 3.132 + 0.0445 \\times TV + 0.1862 \\times Radio + - 0.0014 \\times Newspaper$$\n",
    "\n",
    "\n",
    "\n",
    "\n",
    "How do we interpret the **TV coefficient** (0.0445)?\n",
    "\n",
    "- For a given amount of Radio and Newspaper ad spending, **a \"unit\" increase in TV ad spending** is associated with a **0.0445 \"unit\" increase in Sales**.\n",
    "- Or more clearly: For a given amount of Radio and Newspaper ad spending, **an additional $1,000 spent on TV ads** is associated with an **increase in sales of 44.5 items**.\n",
    "\n",
    "Important notes:\n",
    "\n",
    "- This is a statement of **association**, not **causation**.\n",
    "- If an increase in TV ad spending was associated with a **decrease** in sales, $\\beta_1$ would be **negative**."
   ]
  },
  {
   "cell_type": "code",
   "execution_count": null,
   "metadata": {},
   "outputs": [],
   "source": []
  }
 ],
 "metadata": {
  "kernelspec": {
   "display_name": "Python 3",
   "language": "python",
   "name": "python3"
  },
  "language_info": {
   "codemirror_mode": {
    "name": "ipython",
    "version": 3
   },
   "file_extension": ".py",
   "mimetype": "text/x-python",
   "name": "python",
   "nbconvert_exporter": "python",
   "pygments_lexer": "ipython3",
   "version": "3.6.6"
  }
 },
 "nbformat": 4,
 "nbformat_minor": 2
}
