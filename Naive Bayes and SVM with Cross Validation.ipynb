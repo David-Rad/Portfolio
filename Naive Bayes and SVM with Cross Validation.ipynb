{
 "cells": [
  {
   "cell_type": "markdown",
   "metadata": {},
   "source": [
    "# Naive Bayes and SVM"
   ]
  },
  {
   "cell_type": "markdown",
   "metadata": {},
   "source": [
    "\n",
    "### Data Set Information:\n",
    "\n",
    "This breast cancer databases was obtained from the University of Wisconsin Hospitals, Madison from Dr. William H. Wolberg.  \n",
    "\n",
    "https://archive.ics.uci.edu/ml/datasets/breast+cancer+wisconsin+(original)\n",
    "\n",
    "### Mission:\n",
    "The mission is to create a model that predicts whether the tumor is malignant (type 4) or benign (type 2).\n",
    "\n",
    "\n",
    "\n",
    "### Attribute Information:\n",
    "\n",
    "- 1. Sample code number: id number \n",
    "- 2. Clump Thickness: 1 - 10 \n",
    "- 3. Uniformity of Cell Size: 1 - 10 \n",
    "- 4. Uniformity of Cell Shape: 1 - 10 \n",
    "- 5. Marginal Adhesion: 1 - 10 \n",
    "- 6. Single Epithelial Cell Size: 1 - 10 \n",
    "- 7. Bare Nuclei: 1 - 10 \n",
    "- 8. Bland Chromatin: 1 - 10 \n",
    "- 9. Normal Nucleoli: 1 - 10 \n",
    "- 10. Mitoses: 1 - 10 \n",
    "- 11. Class: (2 for benign, 4 for malignant)\n",
    "\n",
    "## Goals of this ipynb\n",
    "In this notebook we will:\n",
    "- Import data and name the columns\n",
    "- Replace missing data\n",
    "- Instantiate a Navie Bayes and a SVM model\n",
    "- Utilize cross validation accuracy scores to identify the best model\n",
    "- Report the confusion matrix and classification report for the best model\n"
   ]
  },
  {
   "cell_type": "code",
   "execution_count": 1,
   "metadata": {},
   "outputs": [],
   "source": [
    "import pandas as pd\n",
    "import numpy as np\n",
    "import sklearn.linear_model \n",
    "import matplotlib.pyplot as plt\n",
    "import statsmodels.formula.api as sm\n",
    "from sklearn.model_selection import cross_val_score\n",
    "from sklearn import metrics\n",
    "% matplotlib inline\n",
    "\n",
    "\n",
    "\n",
    "import warnings\n",
    "warnings.filterwarnings('ignore')\n",
    "\n",
    "from sklearn.model_selection import train_test_split\n",
    "\n",
    "from random import seed  "
   ]
  },
  {
   "cell_type": "code",
   "execution_count": 2,
   "metadata": {},
   "outputs": [
    {
     "data": {
      "text/html": [
       "<div>\n",
       "<style scoped>\n",
       "    .dataframe tbody tr th:only-of-type {\n",
       "        vertical-align: middle;\n",
       "    }\n",
       "\n",
       "    .dataframe tbody tr th {\n",
       "        vertical-align: top;\n",
       "    }\n",
       "\n",
       "    .dataframe thead th {\n",
       "        text-align: right;\n",
       "    }\n",
       "</style>\n",
       "<table border=\"1\" class=\"dataframe\">\n",
       "  <thead>\n",
       "    <tr style=\"text-align: right;\">\n",
       "      <th></th>\n",
       "      <th>ID</th>\n",
       "      <th>Clump_Thickness</th>\n",
       "      <th>Uniformity_C_Size</th>\n",
       "      <th>Uniformity_C_Shape</th>\n",
       "      <th>marg_adhesion</th>\n",
       "      <th>single_epthelial_size</th>\n",
       "      <th>bare_nuclei</th>\n",
       "      <th>bland_chromatin</th>\n",
       "      <th>normal_nucleoli</th>\n",
       "      <th>mitosis</th>\n",
       "      <th>type</th>\n",
       "    </tr>\n",
       "  </thead>\n",
       "  <tbody>\n",
       "    <tr>\n",
       "      <th>0</th>\n",
       "      <td>1000025</td>\n",
       "      <td>5</td>\n",
       "      <td>1</td>\n",
       "      <td>1</td>\n",
       "      <td>1</td>\n",
       "      <td>2</td>\n",
       "      <td>1</td>\n",
       "      <td>3</td>\n",
       "      <td>1</td>\n",
       "      <td>1</td>\n",
       "      <td>2</td>\n",
       "    </tr>\n",
       "    <tr>\n",
       "      <th>1</th>\n",
       "      <td>1002945</td>\n",
       "      <td>5</td>\n",
       "      <td>4</td>\n",
       "      <td>4</td>\n",
       "      <td>5</td>\n",
       "      <td>7</td>\n",
       "      <td>10</td>\n",
       "      <td>3</td>\n",
       "      <td>2</td>\n",
       "      <td>1</td>\n",
       "      <td>2</td>\n",
       "    </tr>\n",
       "    <tr>\n",
       "      <th>2</th>\n",
       "      <td>1015425</td>\n",
       "      <td>3</td>\n",
       "      <td>1</td>\n",
       "      <td>1</td>\n",
       "      <td>1</td>\n",
       "      <td>2</td>\n",
       "      <td>2</td>\n",
       "      <td>3</td>\n",
       "      <td>1</td>\n",
       "      <td>1</td>\n",
       "      <td>2</td>\n",
       "    </tr>\n",
       "    <tr>\n",
       "      <th>3</th>\n",
       "      <td>1016277</td>\n",
       "      <td>6</td>\n",
       "      <td>8</td>\n",
       "      <td>8</td>\n",
       "      <td>1</td>\n",
       "      <td>3</td>\n",
       "      <td>4</td>\n",
       "      <td>3</td>\n",
       "      <td>7</td>\n",
       "      <td>1</td>\n",
       "      <td>2</td>\n",
       "    </tr>\n",
       "    <tr>\n",
       "      <th>4</th>\n",
       "      <td>1017023</td>\n",
       "      <td>4</td>\n",
       "      <td>1</td>\n",
       "      <td>1</td>\n",
       "      <td>3</td>\n",
       "      <td>2</td>\n",
       "      <td>1</td>\n",
       "      <td>3</td>\n",
       "      <td>1</td>\n",
       "      <td>1</td>\n",
       "      <td>2</td>\n",
       "    </tr>\n",
       "  </tbody>\n",
       "</table>\n",
       "</div>"
      ],
      "text/plain": [
       "        ID  Clump_Thickness  Uniformity_C_Size  Uniformity_C_Shape  \\\n",
       "0  1000025                5                  1                   1   \n",
       "1  1002945                5                  4                   4   \n",
       "2  1015425                3                  1                   1   \n",
       "3  1016277                6                  8                   8   \n",
       "4  1017023                4                  1                   1   \n",
       "\n",
       "   marg_adhesion  single_epthelial_size bare_nuclei  bland_chromatin  \\\n",
       "0              1                      2           1                3   \n",
       "1              5                      7          10                3   \n",
       "2              1                      2           2                3   \n",
       "3              1                      3           4                3   \n",
       "4              3                      2           1                3   \n",
       "\n",
       "   normal_nucleoli  mitosis  type  \n",
       "0                1        1     2  \n",
       "1                2        1     2  \n",
       "2                1        1     2  \n",
       "3                7        1     2  \n",
       "4                1        1     2  "
      ]
     },
     "execution_count": 2,
     "metadata": {},
     "output_type": "execute_result"
    }
   ],
   "source": [
    "# Class Class: (2 for benign, 4 for malignant)\n",
    "\n",
    "df = pd.read_csv('breast-cancer-wisconsin.csv', delimiter=\",\",header=None, \\\n",
    "                 names = ['ID', 'Clump_Thickness', 'Uniformity_C_Size',\\\n",
    "                          'Uniformity_C_Shape', 'marg_adhesion', 'single_epthelial_size', \\\n",
    "                          'bare_nuclei', 'bland_chromatin', 'normal_nucleoli', 'mitosis', \\\n",
    "                          'type'])\n",
    "df.head()\n",
    "\n",
    "\n",
    "    "
   ]
  },
  {
   "cell_type": "code",
   "execution_count": 3,
   "metadata": {
    "scrolled": true
   },
   "outputs": [
    {
     "data": {
      "text/html": [
       "<div>\n",
       "<style scoped>\n",
       "    .dataframe tbody tr th:only-of-type {\n",
       "        vertical-align: middle;\n",
       "    }\n",
       "\n",
       "    .dataframe tbody tr th {\n",
       "        vertical-align: top;\n",
       "    }\n",
       "\n",
       "    .dataframe thead th {\n",
       "        text-align: right;\n",
       "    }\n",
       "</style>\n",
       "<table border=\"1\" class=\"dataframe\">\n",
       "  <thead>\n",
       "    <tr style=\"text-align: right;\">\n",
       "      <th></th>\n",
       "      <th>count</th>\n",
       "      <th>mean</th>\n",
       "      <th>std</th>\n",
       "      <th>min</th>\n",
       "      <th>25%</th>\n",
       "      <th>50%</th>\n",
       "      <th>75%</th>\n",
       "      <th>max</th>\n",
       "    </tr>\n",
       "  </thead>\n",
       "  <tbody>\n",
       "    <tr>\n",
       "      <th>ID</th>\n",
       "      <td>699.0</td>\n",
       "      <td>1.071704e+06</td>\n",
       "      <td>617095.729819</td>\n",
       "      <td>61634.0</td>\n",
       "      <td>870688.5</td>\n",
       "      <td>1171710.0</td>\n",
       "      <td>1238298.0</td>\n",
       "      <td>13454352.0</td>\n",
       "    </tr>\n",
       "    <tr>\n",
       "      <th>Clump_Thickness</th>\n",
       "      <td>699.0</td>\n",
       "      <td>4.417740e+00</td>\n",
       "      <td>2.815741</td>\n",
       "      <td>1.0</td>\n",
       "      <td>2.0</td>\n",
       "      <td>4.0</td>\n",
       "      <td>6.0</td>\n",
       "      <td>10.0</td>\n",
       "    </tr>\n",
       "    <tr>\n",
       "      <th>Uniformity_C_Size</th>\n",
       "      <td>699.0</td>\n",
       "      <td>3.134478e+00</td>\n",
       "      <td>3.051459</td>\n",
       "      <td>1.0</td>\n",
       "      <td>1.0</td>\n",
       "      <td>1.0</td>\n",
       "      <td>5.0</td>\n",
       "      <td>10.0</td>\n",
       "    </tr>\n",
       "    <tr>\n",
       "      <th>Uniformity_C_Shape</th>\n",
       "      <td>699.0</td>\n",
       "      <td>3.207439e+00</td>\n",
       "      <td>2.971913</td>\n",
       "      <td>1.0</td>\n",
       "      <td>1.0</td>\n",
       "      <td>1.0</td>\n",
       "      <td>5.0</td>\n",
       "      <td>10.0</td>\n",
       "    </tr>\n",
       "    <tr>\n",
       "      <th>marg_adhesion</th>\n",
       "      <td>699.0</td>\n",
       "      <td>2.806867e+00</td>\n",
       "      <td>2.855379</td>\n",
       "      <td>1.0</td>\n",
       "      <td>1.0</td>\n",
       "      <td>1.0</td>\n",
       "      <td>4.0</td>\n",
       "      <td>10.0</td>\n",
       "    </tr>\n",
       "    <tr>\n",
       "      <th>single_epthelial_size</th>\n",
       "      <td>699.0</td>\n",
       "      <td>3.216023e+00</td>\n",
       "      <td>2.214300</td>\n",
       "      <td>1.0</td>\n",
       "      <td>2.0</td>\n",
       "      <td>2.0</td>\n",
       "      <td>4.0</td>\n",
       "      <td>10.0</td>\n",
       "    </tr>\n",
       "    <tr>\n",
       "      <th>bland_chromatin</th>\n",
       "      <td>699.0</td>\n",
       "      <td>3.437768e+00</td>\n",
       "      <td>2.438364</td>\n",
       "      <td>1.0</td>\n",
       "      <td>2.0</td>\n",
       "      <td>3.0</td>\n",
       "      <td>5.0</td>\n",
       "      <td>10.0</td>\n",
       "    </tr>\n",
       "    <tr>\n",
       "      <th>normal_nucleoli</th>\n",
       "      <td>699.0</td>\n",
       "      <td>2.866953e+00</td>\n",
       "      <td>3.053634</td>\n",
       "      <td>1.0</td>\n",
       "      <td>1.0</td>\n",
       "      <td>1.0</td>\n",
       "      <td>4.0</td>\n",
       "      <td>10.0</td>\n",
       "    </tr>\n",
       "    <tr>\n",
       "      <th>mitosis</th>\n",
       "      <td>699.0</td>\n",
       "      <td>1.589413e+00</td>\n",
       "      <td>1.715078</td>\n",
       "      <td>1.0</td>\n",
       "      <td>1.0</td>\n",
       "      <td>1.0</td>\n",
       "      <td>1.0</td>\n",
       "      <td>10.0</td>\n",
       "    </tr>\n",
       "    <tr>\n",
       "      <th>type</th>\n",
       "      <td>699.0</td>\n",
       "      <td>2.689557e+00</td>\n",
       "      <td>0.951273</td>\n",
       "      <td>2.0</td>\n",
       "      <td>2.0</td>\n",
       "      <td>2.0</td>\n",
       "      <td>4.0</td>\n",
       "      <td>4.0</td>\n",
       "    </tr>\n",
       "  </tbody>\n",
       "</table>\n",
       "</div>"
      ],
      "text/plain": [
       "                       count          mean            std      min       25%  \\\n",
       "ID                     699.0  1.071704e+06  617095.729819  61634.0  870688.5   \n",
       "Clump_Thickness        699.0  4.417740e+00       2.815741      1.0       2.0   \n",
       "Uniformity_C_Size      699.0  3.134478e+00       3.051459      1.0       1.0   \n",
       "Uniformity_C_Shape     699.0  3.207439e+00       2.971913      1.0       1.0   \n",
       "marg_adhesion          699.0  2.806867e+00       2.855379      1.0       1.0   \n",
       "single_epthelial_size  699.0  3.216023e+00       2.214300      1.0       2.0   \n",
       "bland_chromatin        699.0  3.437768e+00       2.438364      1.0       2.0   \n",
       "normal_nucleoli        699.0  2.866953e+00       3.053634      1.0       1.0   \n",
       "mitosis                699.0  1.589413e+00       1.715078      1.0       1.0   \n",
       "type                   699.0  2.689557e+00       0.951273      2.0       2.0   \n",
       "\n",
       "                             50%        75%         max  \n",
       "ID                     1171710.0  1238298.0  13454352.0  \n",
       "Clump_Thickness              4.0        6.0        10.0  \n",
       "Uniformity_C_Size            1.0        5.0        10.0  \n",
       "Uniformity_C_Shape           1.0        5.0        10.0  \n",
       "marg_adhesion                1.0        4.0        10.0  \n",
       "single_epthelial_size        2.0        4.0        10.0  \n",
       "bland_chromatin              3.0        5.0        10.0  \n",
       "normal_nucleoli              1.0        4.0        10.0  \n",
       "mitosis                      1.0        1.0        10.0  \n",
       "type                         2.0        4.0         4.0  "
      ]
     },
     "execution_count": 3,
     "metadata": {},
     "output_type": "execute_result"
    }
   ],
   "source": [
    "df.describe().transpose()"
   ]
  },
  {
   "cell_type": "code",
   "execution_count": 4,
   "metadata": {
    "scrolled": true
   },
   "outputs": [
    {
     "name": "stdout",
     "output_type": "stream",
     "text": [
      "<class 'pandas.core.frame.DataFrame'>\n",
      "RangeIndex: 699 entries, 0 to 698\n",
      "Data columns (total 11 columns):\n",
      "ID                       699 non-null int64\n",
      "Clump_Thickness          699 non-null int64\n",
      "Uniformity_C_Size        699 non-null int64\n",
      "Uniformity_C_Shape       699 non-null int64\n",
      "marg_adhesion            699 non-null int64\n",
      "single_epthelial_size    699 non-null int64\n",
      "bare_nuclei              699 non-null object\n",
      "bland_chromatin          699 non-null int64\n",
      "normal_nucleoli          699 non-null int64\n",
      "mitosis                  699 non-null int64\n",
      "type                     699 non-null int64\n",
      "dtypes: int64(10), object(1)\n",
      "memory usage: 60.1+ KB\n"
     ]
    }
   ],
   "source": [
    "# examine data types\n",
    "df.info()"
   ]
  },
  {
   "cell_type": "markdown",
   "metadata": {},
   "source": [
    "#### One of the variables is a string and needs to be converted to int"
   ]
  },
  {
   "cell_type": "markdown",
   "metadata": {},
   "source": [
    "# Convert bare_nuclei from str to float"
   ]
  },
  {
   "cell_type": "code",
   "execution_count": 5,
   "metadata": {},
   "outputs": [
    {
     "data": {
      "text/plain": [
       "1     402\n",
       "10    132\n",
       "2      30\n",
       "3      28\n",
       "4      19\n",
       "5      30\n",
       "6       4\n",
       "7       8\n",
       "8      21\n",
       "9       9\n",
       "?      16\n",
       "Name: bare_nuclei, dtype: int64"
      ]
     },
     "execution_count": 5,
     "metadata": {},
     "output_type": "execute_result"
    }
   ],
   "source": [
    "# There are 16 '?'\n",
    "df.bare_nuclei.value_counts().sort_index()"
   ]
  },
  {
   "cell_type": "code",
   "execution_count": 6,
   "metadata": {},
   "outputs": [],
   "source": [
    "df.bare_nuclei.replace('?', 12, inplace=True)"
   ]
  },
  {
   "cell_type": "code",
   "execution_count": 7,
   "metadata": {},
   "outputs": [
    {
     "data": {
      "text/plain": [
       "array(['1', '10', '2', '4', '3', '9', '7', 12, '5', '8', '6'],\n",
       "      dtype=object)"
      ]
     },
     "execution_count": 7,
     "metadata": {},
     "output_type": "execute_result"
    }
   ],
   "source": [
    "df.bare_nuclei.unique()"
   ]
  },
  {
   "cell_type": "code",
   "execution_count": 8,
   "metadata": {},
   "outputs": [],
   "source": [
    "df.bare_nuclei = df.bare_nuclei.astype(int)"
   ]
  },
  {
   "cell_type": "code",
   "execution_count": 9,
   "metadata": {},
   "outputs": [
    {
     "data": {
      "text/plain": [
       "ID                       int64\n",
       "Clump_Thickness          int64\n",
       "Uniformity_C_Size        int64\n",
       "Uniformity_C_Shape       int64\n",
       "marg_adhesion            int64\n",
       "single_epthelial_size    int64\n",
       "bare_nuclei              int64\n",
       "bland_chromatin          int64\n",
       "normal_nucleoli          int64\n",
       "mitosis                  int64\n",
       "type                     int64\n",
       "dtype: object"
      ]
     },
     "execution_count": 9,
     "metadata": {},
     "output_type": "execute_result"
    }
   ],
   "source": [
    "df.dtypes"
   ]
  },
  {
   "cell_type": "code",
   "execution_count": 10,
   "metadata": {
    "scrolled": false
   },
   "outputs": [
    {
     "data": {
      "text/plain": [
       "ID                       0\n",
       "Clump_Thickness          0\n",
       "Uniformity_C_Size        0\n",
       "Uniformity_C_Shape       0\n",
       "marg_adhesion            0\n",
       "single_epthelial_size    0\n",
       "bare_nuclei              0\n",
       "bland_chromatin          0\n",
       "normal_nucleoli          0\n",
       "mitosis                  0\n",
       "type                     0\n",
       "dtype: int64"
      ]
     },
     "execution_count": 10,
     "metadata": {},
     "output_type": "execute_result"
    }
   ],
   "source": [
    "# Check for Nan\n",
    "df.isnull().sum()"
   ]
  },
  {
   "cell_type": "code",
   "execution_count": 11,
   "metadata": {},
   "outputs": [
    {
     "data": {
      "text/plain": [
       "2    458\n",
       "4    241\n",
       "Name: type, dtype: int64"
      ]
     },
     "execution_count": 11,
     "metadata": {},
     "output_type": "execute_result"
    }
   ],
   "source": [
    "# check to see how each outcome is represented\n",
    "df.type.value_counts()"
   ]
  },
  {
   "cell_type": "code",
   "execution_count": 12,
   "metadata": {
    "scrolled": true
   },
   "outputs": [
    {
     "data": {
      "image/png": "[encoded data removed]",
      "text/plain": [
       "<Figure size 432x288 with 1 Axes>"
      ]
     },
     "metadata": {},
     "output_type": "display_data"
    }
   ],
   "source": [
    "import seaborn as sns\n",
    "sns.set(style=\"darkgrid\")\n",
    "ax = sns.countplot(x=\"type\", data=df)"
   ]
  },
  {
   "cell_type": "markdown",
   "metadata": {},
   "source": [
    "### The classes are imbalanced which tells us that accuracy score will not be the best measure to use."
   ]
  },
  {
   "cell_type": "markdown",
   "metadata": {},
   "source": [
    "# Prepare X and y\n"
   ]
  },
  {
   "cell_type": "code",
   "execution_count": 13,
   "metadata": {},
   "outputs": [
    {
     "data": {
      "text/plain": [
       "Index(['ID', 'Clump_Thickness', 'Uniformity_C_Size', 'Uniformity_C_Shape',\n",
       "       'marg_adhesion', 'single_epthelial_size', 'bare_nuclei',\n",
       "       'bland_chromatin', 'normal_nucleoli', 'mitosis', 'type'],\n",
       "      dtype='object')"
      ]
     },
     "execution_count": 13,
     "metadata": {},
     "output_type": "execute_result"
    }
   ],
   "source": [
    "# Column names\n",
    "\n",
    "df.columns"
   ]
  },
  {
   "cell_type": "code",
   "execution_count": 14,
   "metadata": {},
   "outputs": [],
   "source": [
    "# create a Python list of feature names\n",
    "feature_cols = ['ID', 'Clump_Thickness', 'Uniformity_C_Size', 'Uniformity_C_Shape',\n",
    "       'marg_adhesion', 'single_epthelial_size', 'bare_nuclei',\n",
    "       'bland_chromatin', 'normal_nucleoli', 'mitosis']\n",
    "\n",
    "# use the list to select a subset of the original DataFrame\n",
    "\n",
    "X = df[feature_cols]"
   ]
  },
  {
   "cell_type": "code",
   "execution_count": 15,
   "metadata": {},
   "outputs": [],
   "source": [
    "#remove the 'ID'\n",
    "\n",
    "X.drop(['ID'],axis=1, inplace=True)"
   ]
  },
  {
   "cell_type": "code",
   "execution_count": 16,
   "metadata": {
    "scrolled": true
   },
   "outputs": [
    {
     "data": {
      "text/html": [
       "<div>\n",
       "<style scoped>\n",
       "    .dataframe tbody tr th:only-of-type {\n",
       "        vertical-align: middle;\n",
       "    }\n",
       "\n",
       "    .dataframe tbody tr th {\n",
       "        vertical-align: top;\n",
       "    }\n",
       "\n",
       "    .dataframe thead th {\n",
       "        text-align: right;\n",
       "    }\n",
       "</style>\n",
       "<table border=\"1\" class=\"dataframe\">\n",
       "  <thead>\n",
       "    <tr style=\"text-align: right;\">\n",
       "      <th></th>\n",
       "      <th>Clump_Thickness</th>\n",
       "      <th>Uniformity_C_Size</th>\n",
       "      <th>Uniformity_C_Shape</th>\n",
       "      <th>marg_adhesion</th>\n",
       "      <th>single_epthelial_size</th>\n",
       "      <th>bare_nuclei</th>\n",
       "      <th>bland_chromatin</th>\n",
       "      <th>normal_nucleoli</th>\n",
       "      <th>mitosis</th>\n",
       "    </tr>\n",
       "  </thead>\n",
       "  <tbody>\n",
       "    <tr>\n",
       "      <th>0</th>\n",
       "      <td>5</td>\n",
       "      <td>1</td>\n",
       "      <td>1</td>\n",
       "      <td>1</td>\n",
       "      <td>2</td>\n",
       "      <td>1</td>\n",
       "      <td>3</td>\n",
       "      <td>1</td>\n",
       "      <td>1</td>\n",
       "    </tr>\n",
       "    <tr>\n",
       "      <th>1</th>\n",
       "      <td>5</td>\n",
       "      <td>4</td>\n",
       "      <td>4</td>\n",
       "      <td>5</td>\n",
       "      <td>7</td>\n",
       "      <td>10</td>\n",
       "      <td>3</td>\n",
       "      <td>2</td>\n",
       "      <td>1</td>\n",
       "    </tr>\n",
       "    <tr>\n",
       "      <th>2</th>\n",
       "      <td>3</td>\n",
       "      <td>1</td>\n",
       "      <td>1</td>\n",
       "      <td>1</td>\n",
       "      <td>2</td>\n",
       "      <td>2</td>\n",
       "      <td>3</td>\n",
       "      <td>1</td>\n",
       "      <td>1</td>\n",
       "    </tr>\n",
       "    <tr>\n",
       "      <th>3</th>\n",
       "      <td>6</td>\n",
       "      <td>8</td>\n",
       "      <td>8</td>\n",
       "      <td>1</td>\n",
       "      <td>3</td>\n",
       "      <td>4</td>\n",
       "      <td>3</td>\n",
       "      <td>7</td>\n",
       "      <td>1</td>\n",
       "    </tr>\n",
       "    <tr>\n",
       "      <th>4</th>\n",
       "      <td>4</td>\n",
       "      <td>1</td>\n",
       "      <td>1</td>\n",
       "      <td>3</td>\n",
       "      <td>2</td>\n",
       "      <td>1</td>\n",
       "      <td>3</td>\n",
       "      <td>1</td>\n",
       "      <td>1</td>\n",
       "    </tr>\n",
       "  </tbody>\n",
       "</table>\n",
       "</div>"
      ],
      "text/plain": [
       "   Clump_Thickness  Uniformity_C_Size  Uniformity_C_Shape  marg_adhesion  \\\n",
       "0                5                  1                   1              1   \n",
       "1                5                  4                   4              5   \n",
       "2                3                  1                   1              1   \n",
       "3                6                  8                   8              1   \n",
       "4                4                  1                   1              3   \n",
       "\n",
       "   single_epthelial_size  bare_nuclei  bland_chromatin  normal_nucleoli  \\\n",
       "0                      2            1                3                1   \n",
       "1                      7           10                3                2   \n",
       "2                      2            2                3                1   \n",
       "3                      3            4                3                7   \n",
       "4                      2            1                3                1   \n",
       "\n",
       "   mitosis  \n",
       "0        1  \n",
       "1        1  \n",
       "2        1  \n",
       "3        1  \n",
       "4        1  "
      ]
     },
     "execution_count": 16,
     "metadata": {},
     "output_type": "execute_result"
    }
   ],
   "source": [
    "# print the first 5 rows\n",
    "X.head()\n"
   ]
  },
  {
   "cell_type": "code",
   "execution_count": 17,
   "metadata": {},
   "outputs": [],
   "source": [
    "# Set y\n",
    "y=df.type"
   ]
  },
  {
   "cell_type": "markdown",
   "metadata": {},
   "source": [
    "# Naive Bayes Cross Validation\n",
    "\n",
    "\n",
    "\n",
    "### Asuumptions\n",
    "- Predictions are independent from each other\n",
    "- A priori assumption: assumes that past conditions still hold true. When we make predictions from historical data, we well get incorrect results if present situations have changed\n",
    "- All regression models make the A priori assumption"
   ]
  },
  {
   "cell_type": "markdown",
   "metadata": {},
   "source": [
    "# Cross Validation on Naive Bayes\n"
   ]
  },
  {
   "cell_type": "code",
   "execution_count": 18,
   "metadata": {},
   "outputs": [],
   "source": [
    "# Import packages\n",
    "from sklearn.naive_bayes import MultinomialNB, GaussianNB, BernoulliNB\n",
    "from sklearn import metrics\n",
    "from sklearn.metrics import accuracy_score\n",
    "from sklearn.model_selection import cross_validate\n"
   ]
  },
  {
   "cell_type": "code",
   "execution_count": null,
   "metadata": {},
   "outputs": [],
   "source": []
  },
  {
   "cell_type": "code",
   "execution_count": 19,
   "metadata": {},
   "outputs": [
    {
     "data": {
      "text/plain": [
       "{'fit_time': array([0.00257683, 0.00201392, 0.0018549 , 0.00521922, 0.00574327,\n",
       "        0.00365305, 0.00366473, 0.0037539 , 0.00698495, 0.00273824]),\n",
       " 'score_time': array([0.00324392, 0.00297189, 0.00342417, 0.0040319 , 0.0039978 ,\n",
       "        0.00276399, 0.00577307, 0.00678396, 0.00438499, 0.0036087 ]),\n",
       " 'test_accuracy': array([0.91549296, 0.95714286, 0.95714286, 0.9       , 0.98571429,\n",
       "        0.95714286, 0.97142857, 0.97142857, 0.98550725, 0.97101449]),\n",
       " 'train_accuracy': array([0.96178344, 0.95707472, 0.96025437, 0.96343402, 0.95389507,\n",
       "        0.95866455, 0.9554849 , 0.9554849 , 0.95396825, 0.95714286]),\n",
       " 'test_roc_auc': array([0.96347826, 0.98641304, 0.97192029, 0.96286232, 0.99728261,\n",
       "        0.98460145, 0.99275362, 0.9990942 , 0.99814815, 0.9875    ]),\n",
       " 'train_roc_auc': array([0.9880214 , 0.98492237, 0.98738311, 0.98629256, 0.98424008,\n",
       "        0.9861136 , 0.9855823 , 0.98388215, 0.9843675 , 0.98521552])}"
      ]
     },
     "execution_count": 19,
     "metadata": {},
     "output_type": "execute_result"
    }
   ],
   "source": [
    "NBmodel = GaussianNB()\n",
    "nb_cross_scores = cross_validate(NBmodel, X, y, cv=10,\\\n",
    "                        scoring=('accuracy', 'roc_auc'), \\\n",
    "                              return_train_score=True)\n",
    "\n",
    "\n",
    "nb_cross_scores"
   ]
  },
  {
   "cell_type": "code",
   "execution_count": 20,
   "metadata": {},
   "outputs": [
    {
     "name": "stdout",
     "output_type": "stream",
     "text": [
      "fit_time\n",
      "score_time\n",
      "test_accuracy\n",
      "train_accuracy\n",
      "test_roc_auc\n",
      "train_roc_auc\n"
     ]
    }
   ],
   "source": [
    "# examine metrics available\n",
    "\n",
    "for key, value in nb_cross_scores.items() :\n",
    "    print (key)"
   ]
  },
  {
   "cell_type": "markdown",
   "metadata": {},
   "source": [
    "## The mean score and the 95% confidence interval:"
   ]
  },
  {
   "cell_type": "code",
   "execution_count": 21,
   "metadata": {},
   "outputs": [
    {
     "name": "stdout",
     "output_type": "stream",
     "text": [
      "Accuracy: 0.96 (+/- 0.05)\n",
      "ROC_AUC: 0.98 (+/- 0.03)\n"
     ]
    }
   ],
   "source": [
    "print(\"Accuracy: %0.2f (+/- %0.2f)\" % (nb_cross_scores['test_accuracy'].mean(), \\\n",
    "                                       nb_cross_scores['test_accuracy'].std() * 2))\n",
    "print(\"ROC_AUC: %0.2f (+/- %0.2f)\" % (nb_cross_scores['test_roc_auc'].mean(), \\\n",
    "                                       nb_cross_scores['test_roc_auc'].std() * 2))"
   ]
  },
  {
   "cell_type": "markdown",
   "metadata": {},
   "source": [
    "# Cross Validation of SVM"
   ]
  },
  {
   "cell_type": "code",
   "execution_count": 22,
   "metadata": {},
   "outputs": [
    {
     "data": {
      "text/plain": [
       "{'fit_time': array([0.0208168 , 0.012398  , 0.00765705, 0.00698209, 0.01039696,\n",
       "        0.015239  , 0.02960801, 0.01321197, 0.01599216, 0.01518011]),\n",
       " 'score_time': array([0.00610423, 0.00286818, 0.00261497, 0.00261593, 0.00645185,\n",
       "        0.00535512, 0.00498199, 0.00878787, 0.00726986, 0.00819802]),\n",
       " 'test_accuracy': array([0.88732394, 0.95714286, 0.97142857, 0.88571429, 0.98571429,\n",
       "        0.97142857, 0.98571429, 0.98571429, 0.98550725, 0.98550725]),\n",
       " 'train_accuracy': array([0.99840764, 0.99682035, 0.99682035, 0.99841017, 0.99682035,\n",
       "        0.99682035, 0.99682035, 0.99682035, 0.9952381 , 0.9968254 ]),\n",
       " 'test_roc_auc': array([0.94608696, 0.99003623, 0.97373188, 0.95833333, 1.        ,\n",
       "        0.98731884, 0.9990942 , 1.        , 0.99907407, 1.        ]),\n",
       " 'train_roc_auc': array([1.        , 0.99997763, 1.        , 1.        , 0.99998881,\n",
       "        1.        , 1.        , 0.99998881, 0.99998884, 0.99998884])}"
      ]
     },
     "execution_count": 22,
     "metadata": {},
     "output_type": "execute_result"
    }
   ],
   "source": [
    "# Support Vector Machine\n",
    "from sklearn import datasets\n",
    "from sklearn import metrics\n",
    "from sklearn.svm import SVC\n",
    "\n",
    "SVCmodel = SVC()\n",
    "SVC_cross_scores = cross_validate(SVCmodel, X, y, cv=10,\\\n",
    "                        scoring=('accuracy', 'roc_auc'), \\\n",
    "                              return_train_score=True)\n",
    "\n",
    "\n",
    "SVC_cross_scores"
   ]
  },
  {
   "cell_type": "markdown",
   "metadata": {},
   "source": [
    "## The mean score and the 95% confidence interval:"
   ]
  },
  {
   "cell_type": "code",
   "execution_count": 23,
   "metadata": {},
   "outputs": [
    {
     "name": "stdout",
     "output_type": "stream",
     "text": [
      "fit_time\n",
      "score_time\n",
      "test_accuracy\n",
      "train_accuracy\n",
      "test_roc_auc\n",
      "train_roc_auc\n"
     ]
    }
   ],
   "source": [
    "# examine metrics available\n",
    "\n",
    "for key, value in SVC_cross_scores.items() :\n",
    "    print (key)"
   ]
  },
  {
   "cell_type": "code",
   "execution_count": 24,
   "metadata": {},
   "outputs": [
    {
     "name": "stdout",
     "output_type": "stream",
     "text": [
      "Accuracy: 0.96 (+/- 0.08)\n",
      "ROC_AUC: 0.99 (+/- 0.04)\n"
     ]
    }
   ],
   "source": [
    "print(\"Accuracy: %0.2f (+/- %0.2f)\" % (SVC_cross_scores['test_accuracy'].mean(), \\\n",
    "                                       SVC_cross_scores['test_accuracy'].std() * 2))\n",
    "print(\"ROC_AUC: %0.2f (+/- %0.2f)\" % (SVC_cross_scores['test_roc_auc'].mean(), \\\n",
    "                                       SVC_cross_scores['test_roc_auc'].std() * 2))\n",
    "\n"
   ]
  },
  {
   "cell_type": "code",
   "execution_count": null,
   "metadata": {},
   "outputs": [],
   "source": []
  },
  {
   "cell_type": "markdown",
   "metadata": {},
   "source": [
    "# Model Evaluation\n"
   ]
  },
  {
   "cell_type": "code",
   "execution_count": 25,
   "metadata": {},
   "outputs": [
    {
     "data": {
      "text/plain": [
       "2    458\n",
       "4    241\n",
       "Name: type, dtype: int64"
      ]
     },
     "execution_count": 25,
     "metadata": {},
     "output_type": "execute_result"
    }
   ],
   "source": [
    "df.type.value_counts()"
   ]
  },
  {
   "cell_type": "markdown",
   "metadata": {},
   "source": [
    "##### The classes were imbalanced. \n",
    "- Type 2: 458\n",
    "- Type 4: 241. \n",
    "\n",
    "This means that ROC_AUC is a better evaluation metric.\n",
    "\n",
    "The SVM barely outperformed the Naive Bayes on ROC_AUC:\n",
    "    - SVM: \n",
    "        - Accuracy: 0.96 (+/- 0.08)\n",
    "        - ROC_AUC: 0.99 (+/- 0.04)\n",
    "    - Naive Bayes: Accuracy:\n",
    "        - Accuracy: 0.96 (+/- 0.05)\n",
    "        - ROC_AUC: 0.98 (+/- 0.03)"
   ]
  },
  {
   "cell_type": "markdown",
   "metadata": {},
   "source": [
    "# The Best Model is the SVM. Investigate the model further."
   ]
  },
  {
   "cell_type": "code",
   "execution_count": 26,
   "metadata": {},
   "outputs": [],
   "source": [
    "# Test, Train, split\n",
    "X_train, X_test, y_train, y_test = train_test_split(X, y, test_size=0.2, random_state=43)"
   ]
  },
  {
   "cell_type": "code",
   "execution_count": 27,
   "metadata": {},
   "outputs": [
    {
     "name": "stdout",
     "output_type": "stream",
     "text": [
      "SVC(C=1.0, cache_size=200, class_weight=None, coef0=0.0,\n",
      "  decision_function_shape='ovr', degree=3, gamma='auto_deprecated',\n",
      "  kernel='rbf', max_iter=-1, probability=False, random_state=None,\n",
      "  shrinking=True, tol=0.001, verbose=False)\n",
      "              precision    recall  f1-score   support\n",
      "\n",
      "           2       1.00      0.94      0.97        84\n",
      "           4       0.92      1.00      0.96        56\n",
      "\n",
      "   micro avg       0.96      0.96      0.96       140\n",
      "   macro avg       0.96      0.97      0.96       140\n",
      "weighted avg       0.97      0.96      0.96       140\n",
      "\n",
      "[[79  5]\n",
      " [ 0 56]]\n"
     ]
    }
   ],
   "source": [
    "\n",
    "# Support Vector Machine\n",
    "from sklearn import datasets\n",
    "from sklearn import metrics\n",
    "from sklearn.svm import SVC\n",
    "\n",
    "\n",
    "# fit a SVM model to the data\n",
    "model = SVC()\n",
    "model.fit(X_train, y_train)\n",
    "print(model)\n",
    "\n",
    "# make predictions\n",
    "predicted = model.predict(X_test)\n",
    "\n",
    "# summarize the fit of the model\n",
    "print(metrics.classification_report(y_test, predicted))\n",
    "print(metrics.confusion_matrix(y_test, predicted))"
   ]
  },
  {
   "cell_type": "markdown",
   "metadata": {},
   "source": [
    "#### Precision: TP/ TP + FP\n",
    "    -Out of all type 2s predicted (TP + FP), 100% of the predictions were accurate.\n",
    "#### Recall: TP /  TP + FN\n",
    "    -Out of all the type 2s in the test set, 0.94 were identified."
   ]
  },
  {
   "cell_type": "markdown",
   "metadata": {},
   "source": [
    "# Summary & Conclusions"
   ]
  },
  {
   "cell_type": "markdown",
   "metadata": {},
   "source": [
    "Let's examine what we accomplished in this notebook:\n",
    "\n",
    "- Data was loaded.\n",
    "\n",
    "- Nans were checked for and replaced.\n",
    "\n",
    "- Two models were run and validated using cross validation.\n",
    "\n",
    "- Both models were evaluated and performed well.\n",
    "\n",
    "However, the SVM barely outperformed the Naive Bayes on ROC_AUC:\n",
    "    - SVM: \n",
    "        - Accuracy: 0.96 (+/- 0.08)\n",
    "        - ROC_AUC: 0.99 (+/- 0.04)\n",
    "    - Naive Bayes: Accuracy:\n",
    "        - Accuracy: 0.96 (+/- 0.05)\n",
    "        - ROC_AUC: 0.98 (+/- 0.03)\n",
    "\n",
    "The classes were imbalanced, therefore ROC_AUC provideds a better measure.\n",
    "\n",
    "*** The recommendation is to use the SVM on this dataset to classify benign and malignant tumors. ***\n"
   ]
  },
  {
   "cell_type": "code",
   "execution_count": null,
   "metadata": {},
   "outputs": [],
   "source": []
  }
 ],
 "metadata": {
  "kernelspec": {
   "display_name": "Python 3",
   "language": "python",
   "name": "python3"
  },
  "language_info": {
   "codemirror_mode": {
    "name": "ipython",
    "version": 3
   },
   "file_extension": ".py",
   "mimetype": "text/x-python",
   "name": "python",
   "nbconvert_exporter": "python",
   "pygments_lexer": "ipython3",
   "version": "3.6.6"
  }
 },
 "nbformat": 4,
 "nbformat_minor": 2
}
