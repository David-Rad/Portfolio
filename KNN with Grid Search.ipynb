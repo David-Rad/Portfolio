{
 "cells": [
  {
   "cell_type": "markdown",
   "metadata": {},
   "source": [
    "# KNN with Grid Search"
   ]
  },
  {
   "cell_type": "markdown",
   "metadata": {},
   "source": [
    "\n",
    "### Data Set Information:\n",
    "\n",
    "This breast cancer databases was obtained from the University of Wisconsin Hospitals, Madison from Dr. William H. Wolberg.  \n",
    "\n",
    "https://archive.ics.uci.edu/ml/datasets/breast+cancer+wisconsin+(original)\n",
    "\n",
    "### Mission:\n",
    "The mission is to create a model that predicts whether the tumor is malignant (type 4) or benign (type 2).\n",
    "\n",
    "\n",
    "\n",
    "### Attribute Information:\n",
    "\n",
    "- 1. Sample code number: id number \n",
    "- 2. Clump Thickness: 1 - 10 \n",
    "- 3. Uniformity of Cell Size: 1 - 10 \n",
    "- 4. Uniformity of Cell Shape: 1 - 10 \n",
    "- 5. Marginal Adhesion: 1 - 10 \n",
    "- 6. Single Epithelial Cell Size: 1 - 10 \n",
    "- 7. Bare Nuclei: 1 - 10 \n",
    "- 8. Bland Chromatin: 1 - 10 \n",
    "- 9. Normal Nucleoli: 1 - 10 \n",
    "- 10. Mitoses: 1 - 10 \n",
    "- 11. Class: (2 for benign, 4 for malignant)\n",
    "\n",
    "## Goals of this ipynb\n",
    "In this notebook we will:\n",
    "- Import data and name the columns\n",
    "- Utilize Grid Search to identify the hyper paramaters for the best model\n",
    "- Use the best model to make predictions and find the nearest neighbors to confirm its accuracy\n",
    "- Report the accuracy scores of the best model\n"
   ]
  },
  {
   "cell_type": "code",
   "execution_count": 129,
   "metadata": {},
   "outputs": [],
   "source": [
    "# import packages\n",
    "import pandas as pd\n",
    "import numpy as np\n",
    "import sklearn.linear_model \n",
    "import matplotlib.pyplot as plt\n",
    "import statsmodels.formula.api as sm\n",
    "from sklearn.linear_model import LinearRegression\n",
    "from sklearn.model_selection import cross_val_score\n",
    "from sklearn import metrics\n",
    "% matplotlib inline\n",
    "\n",
    "from sklearn.model_selection import train_test_split\n",
    "\n",
    "from random import seed  "
   ]
  },
  {
   "cell_type": "code",
   "execution_count": 131,
   "metadata": {},
   "outputs": [],
   "source": [
    "# The data has no header\n",
    "df = pd.read_csv('breast-cancer-wisconsin.csv', header=None, sep=',')"
   ]
  },
  {
   "cell_type": "code",
   "execution_count": 132,
   "metadata": {},
   "outputs": [
    {
     "data": {
      "text/html": [
       "<div>\n",
       "<style scoped>\n",
       "    .dataframe tbody tr th:only-of-type {\n",
       "        vertical-align: middle;\n",
       "    }\n",
       "\n",
       "    .dataframe tbody tr th {\n",
       "        vertical-align: top;\n",
       "    }\n",
       "\n",
       "    .dataframe thead th {\n",
       "        text-align: right;\n",
       "    }\n",
       "</style>\n",
       "<table border=\"1\" class=\"dataframe\">\n",
       "  <thead>\n",
       "    <tr style=\"text-align: right;\">\n",
       "      <th></th>\n",
       "      <th>0</th>\n",
       "      <th>1</th>\n",
       "      <th>2</th>\n",
       "      <th>3</th>\n",
       "      <th>4</th>\n",
       "      <th>5</th>\n",
       "      <th>6</th>\n",
       "      <th>7</th>\n",
       "      <th>8</th>\n",
       "      <th>9</th>\n",
       "      <th>10</th>\n",
       "    </tr>\n",
       "  </thead>\n",
       "  <tbody>\n",
       "    <tr>\n",
       "      <th>0</th>\n",
       "      <td>1000025</td>\n",
       "      <td>5</td>\n",
       "      <td>1</td>\n",
       "      <td>1</td>\n",
       "      <td>1</td>\n",
       "      <td>2</td>\n",
       "      <td>1</td>\n",
       "      <td>3</td>\n",
       "      <td>1</td>\n",
       "      <td>1</td>\n",
       "      <td>2</td>\n",
       "    </tr>\n",
       "    <tr>\n",
       "      <th>1</th>\n",
       "      <td>1002945</td>\n",
       "      <td>5</td>\n",
       "      <td>4</td>\n",
       "      <td>4</td>\n",
       "      <td>5</td>\n",
       "      <td>7</td>\n",
       "      <td>10</td>\n",
       "      <td>3</td>\n",
       "      <td>2</td>\n",
       "      <td>1</td>\n",
       "      <td>2</td>\n",
       "    </tr>\n",
       "    <tr>\n",
       "      <th>2</th>\n",
       "      <td>1015425</td>\n",
       "      <td>3</td>\n",
       "      <td>1</td>\n",
       "      <td>1</td>\n",
       "      <td>1</td>\n",
       "      <td>2</td>\n",
       "      <td>2</td>\n",
       "      <td>3</td>\n",
       "      <td>1</td>\n",
       "      <td>1</td>\n",
       "      <td>2</td>\n",
       "    </tr>\n",
       "    <tr>\n",
       "      <th>3</th>\n",
       "      <td>1016277</td>\n",
       "      <td>6</td>\n",
       "      <td>8</td>\n",
       "      <td>8</td>\n",
       "      <td>1</td>\n",
       "      <td>3</td>\n",
       "      <td>4</td>\n",
       "      <td>3</td>\n",
       "      <td>7</td>\n",
       "      <td>1</td>\n",
       "      <td>2</td>\n",
       "    </tr>\n",
       "    <tr>\n",
       "      <th>4</th>\n",
       "      <td>1017023</td>\n",
       "      <td>4</td>\n",
       "      <td>1</td>\n",
       "      <td>1</td>\n",
       "      <td>3</td>\n",
       "      <td>2</td>\n",
       "      <td>1</td>\n",
       "      <td>3</td>\n",
       "      <td>1</td>\n",
       "      <td>1</td>\n",
       "      <td>2</td>\n",
       "    </tr>\n",
       "  </tbody>\n",
       "</table>\n",
       "</div>"
      ],
      "text/plain": [
       "        0   1   2   3   4   5   6   7   8   9   10\n",
       "0  1000025   5   1   1   1   2   1   3   1   1   2\n",
       "1  1002945   5   4   4   5   7  10   3   2   1   2\n",
       "2  1015425   3   1   1   1   2   2   3   1   1   2\n",
       "3  1016277   6   8   8   1   3   4   3   7   1   2\n",
       "4  1017023   4   1   1   3   2   1   3   1   1   2"
      ]
     },
     "execution_count": 132,
     "metadata": {},
     "output_type": "execute_result"
    }
   ],
   "source": [
    "df.head()"
   ]
  },
  {
   "cell_type": "code",
   "execution_count": 238,
   "metadata": {},
   "outputs": [
    {
     "data": {
      "text/html": [
       "<div>\n",
       "<style scoped>\n",
       "    .dataframe tbody tr th:only-of-type {\n",
       "        vertical-align: middle;\n",
       "    }\n",
       "\n",
       "    .dataframe tbody tr th {\n",
       "        vertical-align: top;\n",
       "    }\n",
       "\n",
       "    .dataframe thead th {\n",
       "        text-align: right;\n",
       "    }\n",
       "</style>\n",
       "<table border=\"1\" class=\"dataframe\">\n",
       "  <thead>\n",
       "    <tr style=\"text-align: right;\">\n",
       "      <th></th>\n",
       "      <th>ID</th>\n",
       "      <th>Clump_Thickness</th>\n",
       "      <th>Uniformity_C_Size</th>\n",
       "      <th>Uniformity_C_Shape</th>\n",
       "      <th>marg_adhesion</th>\n",
       "      <th>single_epthelial_size</th>\n",
       "      <th>bare_nuclei</th>\n",
       "      <th>bland_chromatin</th>\n",
       "      <th>normal_nucleoli</th>\n",
       "      <th>mitosis</th>\n",
       "      <th>type</th>\n",
       "    </tr>\n",
       "  </thead>\n",
       "  <tbody>\n",
       "    <tr>\n",
       "      <th>0</th>\n",
       "      <td>1000025</td>\n",
       "      <td>5</td>\n",
       "      <td>1</td>\n",
       "      <td>1</td>\n",
       "      <td>1</td>\n",
       "      <td>2</td>\n",
       "      <td>1</td>\n",
       "      <td>3</td>\n",
       "      <td>1</td>\n",
       "      <td>1</td>\n",
       "      <td>2</td>\n",
       "    </tr>\n",
       "    <tr>\n",
       "      <th>1</th>\n",
       "      <td>1002945</td>\n",
       "      <td>5</td>\n",
       "      <td>4</td>\n",
       "      <td>4</td>\n",
       "      <td>5</td>\n",
       "      <td>7</td>\n",
       "      <td>10</td>\n",
       "      <td>3</td>\n",
       "      <td>2</td>\n",
       "      <td>1</td>\n",
       "      <td>2</td>\n",
       "    </tr>\n",
       "    <tr>\n",
       "      <th>2</th>\n",
       "      <td>1015425</td>\n",
       "      <td>3</td>\n",
       "      <td>1</td>\n",
       "      <td>1</td>\n",
       "      <td>1</td>\n",
       "      <td>2</td>\n",
       "      <td>2</td>\n",
       "      <td>3</td>\n",
       "      <td>1</td>\n",
       "      <td>1</td>\n",
       "      <td>2</td>\n",
       "    </tr>\n",
       "    <tr>\n",
       "      <th>3</th>\n",
       "      <td>1016277</td>\n",
       "      <td>6</td>\n",
       "      <td>8</td>\n",
       "      <td>8</td>\n",
       "      <td>1</td>\n",
       "      <td>3</td>\n",
       "      <td>4</td>\n",
       "      <td>3</td>\n",
       "      <td>7</td>\n",
       "      <td>1</td>\n",
       "      <td>2</td>\n",
       "    </tr>\n",
       "    <tr>\n",
       "      <th>4</th>\n",
       "      <td>1017023</td>\n",
       "      <td>4</td>\n",
       "      <td>1</td>\n",
       "      <td>1</td>\n",
       "      <td>3</td>\n",
       "      <td>2</td>\n",
       "      <td>1</td>\n",
       "      <td>3</td>\n",
       "      <td>1</td>\n",
       "      <td>1</td>\n",
       "      <td>2</td>\n",
       "    </tr>\n",
       "  </tbody>\n",
       "</table>\n",
       "</div>"
      ],
      "text/plain": [
       "        ID  Clump_Thickness  Uniformity_C_Size  Uniformity_C_Shape  \\\n",
       "0  1000025                5                  1                   1   \n",
       "1  1002945                5                  4                   4   \n",
       "2  1015425                3                  1                   1   \n",
       "3  1016277                6                  8                   8   \n",
       "4  1017023                4                  1                   1   \n",
       "\n",
       "   marg_adhesion  single_epthelial_size bare_nuclei  bland_chromatin  \\\n",
       "0              1                      2           1                3   \n",
       "1              5                      7          10                3   \n",
       "2              1                      2           2                3   \n",
       "3              1                      3           4                3   \n",
       "4              3                      2           1                3   \n",
       "\n",
       "   normal_nucleoli  mitosis  type  \n",
       "0                1        1     2  \n",
       "1                2        1     2  \n",
       "2                1        1     2  \n",
       "3                7        1     2  \n",
       "4                1        1     2  "
      ]
     },
     "execution_count": 238,
     "metadata": {},
     "output_type": "execute_result"
    }
   ],
   "source": [
    "# Class Class: (2 for benign, 4 for malignant)\n",
    "\n",
    "df = pd.read_csv('breast-cancer-wisconsin.csv', delimiter=\",\",header=None, \\\n",
    "                 names = ['ID', 'Clump_Thickness', 'Uniformity_C_Size',\\\n",
    "                          'Uniformity_C_Shape', 'marg_adhesion', 'single_epthelial_size', \\\n",
    "                          'bare_nuclei', 'bland_chromatin', 'normal_nucleoli', 'mitosis', \\\n",
    "                          'type'])\n",
    "df.head()\n",
    "\n",
    "\n",
    "    "
   ]
  },
  {
   "cell_type": "code",
   "execution_count": 239,
   "metadata": {
    "scrolled": true
   },
   "outputs": [
    {
     "data": {
      "text/html": [
       "<div>\n",
       "<style scoped>\n",
       "    .dataframe tbody tr th:only-of-type {\n",
       "        vertical-align: middle;\n",
       "    }\n",
       "\n",
       "    .dataframe tbody tr th {\n",
       "        vertical-align: top;\n",
       "    }\n",
       "\n",
       "    .dataframe thead th {\n",
       "        text-align: right;\n",
       "    }\n",
       "</style>\n",
       "<table border=\"1\" class=\"dataframe\">\n",
       "  <thead>\n",
       "    <tr style=\"text-align: right;\">\n",
       "      <th></th>\n",
       "      <th>count</th>\n",
       "      <th>mean</th>\n",
       "      <th>std</th>\n",
       "      <th>min</th>\n",
       "      <th>25%</th>\n",
       "      <th>50%</th>\n",
       "      <th>75%</th>\n",
       "      <th>max</th>\n",
       "    </tr>\n",
       "  </thead>\n",
       "  <tbody>\n",
       "    <tr>\n",
       "      <th>ID</th>\n",
       "      <td>699.0</td>\n",
       "      <td>1.071704e+06</td>\n",
       "      <td>617095.729819</td>\n",
       "      <td>61634.0</td>\n",
       "      <td>870688.5</td>\n",
       "      <td>1171710.0</td>\n",
       "      <td>1238298.0</td>\n",
       "      <td>13454352.0</td>\n",
       "    </tr>\n",
       "    <tr>\n",
       "      <th>Clump_Thickness</th>\n",
       "      <td>699.0</td>\n",
       "      <td>4.417740e+00</td>\n",
       "      <td>2.815741</td>\n",
       "      <td>1.0</td>\n",
       "      <td>2.0</td>\n",
       "      <td>4.0</td>\n",
       "      <td>6.0</td>\n",
       "      <td>10.0</td>\n",
       "    </tr>\n",
       "    <tr>\n",
       "      <th>Uniformity_C_Size</th>\n",
       "      <td>699.0</td>\n",
       "      <td>3.134478e+00</td>\n",
       "      <td>3.051459</td>\n",
       "      <td>1.0</td>\n",
       "      <td>1.0</td>\n",
       "      <td>1.0</td>\n",
       "      <td>5.0</td>\n",
       "      <td>10.0</td>\n",
       "    </tr>\n",
       "    <tr>\n",
       "      <th>Uniformity_C_Shape</th>\n",
       "      <td>699.0</td>\n",
       "      <td>3.207439e+00</td>\n",
       "      <td>2.971913</td>\n",
       "      <td>1.0</td>\n",
       "      <td>1.0</td>\n",
       "      <td>1.0</td>\n",
       "      <td>5.0</td>\n",
       "      <td>10.0</td>\n",
       "    </tr>\n",
       "    <tr>\n",
       "      <th>marg_adhesion</th>\n",
       "      <td>699.0</td>\n",
       "      <td>2.806867e+00</td>\n",
       "      <td>2.855379</td>\n",
       "      <td>1.0</td>\n",
       "      <td>1.0</td>\n",
       "      <td>1.0</td>\n",
       "      <td>4.0</td>\n",
       "      <td>10.0</td>\n",
       "    </tr>\n",
       "    <tr>\n",
       "      <th>single_epthelial_size</th>\n",
       "      <td>699.0</td>\n",
       "      <td>3.216023e+00</td>\n",
       "      <td>2.214300</td>\n",
       "      <td>1.0</td>\n",
       "      <td>2.0</td>\n",
       "      <td>2.0</td>\n",
       "      <td>4.0</td>\n",
       "      <td>10.0</td>\n",
       "    </tr>\n",
       "    <tr>\n",
       "      <th>bland_chromatin</th>\n",
       "      <td>699.0</td>\n",
       "      <td>3.437768e+00</td>\n",
       "      <td>2.438364</td>\n",
       "      <td>1.0</td>\n",
       "      <td>2.0</td>\n",
       "      <td>3.0</td>\n",
       "      <td>5.0</td>\n",
       "      <td>10.0</td>\n",
       "    </tr>\n",
       "    <tr>\n",
       "      <th>normal_nucleoli</th>\n",
       "      <td>699.0</td>\n",
       "      <td>2.866953e+00</td>\n",
       "      <td>3.053634</td>\n",
       "      <td>1.0</td>\n",
       "      <td>1.0</td>\n",
       "      <td>1.0</td>\n",
       "      <td>4.0</td>\n",
       "      <td>10.0</td>\n",
       "    </tr>\n",
       "    <tr>\n",
       "      <th>mitosis</th>\n",
       "      <td>699.0</td>\n",
       "      <td>1.589413e+00</td>\n",
       "      <td>1.715078</td>\n",
       "      <td>1.0</td>\n",
       "      <td>1.0</td>\n",
       "      <td>1.0</td>\n",
       "      <td>1.0</td>\n",
       "      <td>10.0</td>\n",
       "    </tr>\n",
       "    <tr>\n",
       "      <th>type</th>\n",
       "      <td>699.0</td>\n",
       "      <td>2.689557e+00</td>\n",
       "      <td>0.951273</td>\n",
       "      <td>2.0</td>\n",
       "      <td>2.0</td>\n",
       "      <td>2.0</td>\n",
       "      <td>4.0</td>\n",
       "      <td>4.0</td>\n",
       "    </tr>\n",
       "  </tbody>\n",
       "</table>\n",
       "</div>"
      ],
      "text/plain": [
       "                       count          mean            std      min       25%  \\\n",
       "ID                     699.0  1.071704e+06  617095.729819  61634.0  870688.5   \n",
       "Clump_Thickness        699.0  4.417740e+00       2.815741      1.0       2.0   \n",
       "Uniformity_C_Size      699.0  3.134478e+00       3.051459      1.0       1.0   \n",
       "Uniformity_C_Shape     699.0  3.207439e+00       2.971913      1.0       1.0   \n",
       "marg_adhesion          699.0  2.806867e+00       2.855379      1.0       1.0   \n",
       "single_epthelial_size  699.0  3.216023e+00       2.214300      1.0       2.0   \n",
       "bland_chromatin        699.0  3.437768e+00       2.438364      1.0       2.0   \n",
       "normal_nucleoli        699.0  2.866953e+00       3.053634      1.0       1.0   \n",
       "mitosis                699.0  1.589413e+00       1.715078      1.0       1.0   \n",
       "type                   699.0  2.689557e+00       0.951273      2.0       2.0   \n",
       "\n",
       "                             50%        75%         max  \n",
       "ID                     1171710.0  1238298.0  13454352.0  \n",
       "Clump_Thickness              4.0        6.0        10.0  \n",
       "Uniformity_C_Size            1.0        5.0        10.0  \n",
       "Uniformity_C_Shape           1.0        5.0        10.0  \n",
       "marg_adhesion                1.0        4.0        10.0  \n",
       "single_epthelial_size        2.0        4.0        10.0  \n",
       "bland_chromatin              3.0        5.0        10.0  \n",
       "normal_nucleoli              1.0        4.0        10.0  \n",
       "mitosis                      1.0        1.0        10.0  \n",
       "type                         2.0        4.0         4.0  "
      ]
     },
     "execution_count": 239,
     "metadata": {},
     "output_type": "execute_result"
    }
   ],
   "source": [
    "df.describe().transpose()"
   ]
  },
  {
   "cell_type": "code",
   "execution_count": 240,
   "metadata": {},
   "outputs": [
    {
     "name": "stdout",
     "output_type": "stream",
     "text": [
      "<class 'pandas.core.frame.DataFrame'>\n",
      "RangeIndex: 699 entries, 0 to 698\n",
      "Data columns (total 11 columns):\n",
      "ID                       699 non-null int64\n",
      "Clump_Thickness          699 non-null int64\n",
      "Uniformity_C_Size        699 non-null int64\n",
      "Uniformity_C_Shape       699 non-null int64\n",
      "marg_adhesion            699 non-null int64\n",
      "single_epthelial_size    699 non-null int64\n",
      "bare_nuclei              699 non-null object\n",
      "bland_chromatin          699 non-null int64\n",
      "normal_nucleoli          699 non-null int64\n",
      "mitosis                  699 non-null int64\n",
      "type                     699 non-null int64\n",
      "dtypes: int64(10), object(1)\n",
      "memory usage: 60.1+ KB\n"
     ]
    }
   ],
   "source": [
    "df.info()"
   ]
  },
  {
   "cell_type": "markdown",
   "metadata": {},
   "source": [
    "# Convert bare_nuclei from str to float"
   ]
  },
  {
   "cell_type": "code",
   "execution_count": null,
   "metadata": {},
   "outputs": [],
   "source": []
  },
  {
   "cell_type": "code",
   "execution_count": 241,
   "metadata": {},
   "outputs": [
    {
     "data": {
      "text/plain": [
       "1     402\n",
       "10    132\n",
       "2      30\n",
       "3      28\n",
       "4      19\n",
       "5      30\n",
       "6       4\n",
       "7       8\n",
       "8      21\n",
       "9       9\n",
       "?      16\n",
       "Name: bare_nuclei, dtype: int64"
      ]
     },
     "execution_count": 241,
     "metadata": {},
     "output_type": "execute_result"
    }
   ],
   "source": [
    "# bare_nuclei has a value we need to replace:'?' \n",
    "df.bare_nuclei.value_counts().sort_index()\n"
   ]
  },
  {
   "cell_type": "code",
   "execution_count": 242,
   "metadata": {},
   "outputs": [],
   "source": [
    "# value 1 is a large majority of the attribute. We cold replace it with a '1'. But for this project we will replace with -99999 to indicate an unknown\n",
    "df.bare_nuclei.replace('?', -99999, inplace=True)"
   ]
  },
  {
   "cell_type": "code",
   "execution_count": 243,
   "metadata": {},
   "outputs": [
    {
     "data": {
      "text/plain": [
       "array(['1', '10', '2', '4', '3', '9', '7', -99999, '5', '8', '6'],\n",
       "      dtype=object)"
      ]
     },
     "execution_count": 243,
     "metadata": {},
     "output_type": "execute_result"
    }
   ],
   "source": [
    "df.bare_nuclei.unique()"
   ]
  },
  {
   "cell_type": "code",
   "execution_count": 244,
   "metadata": {},
   "outputs": [],
   "source": [
    "df.bare_nuclei = df.bare_nuclei.astype(int)"
   ]
  },
  {
   "cell_type": "code",
   "execution_count": 245,
   "metadata": {},
   "outputs": [
    {
     "data": {
      "text/plain": [
       "ID                       int64\n",
       "Clump_Thickness          int64\n",
       "Uniformity_C_Size        int64\n",
       "Uniformity_C_Shape       int64\n",
       "marg_adhesion            int64\n",
       "single_epthelial_size    int64\n",
       "bare_nuclei              int64\n",
       "bland_chromatin          int64\n",
       "normal_nucleoli          int64\n",
       "mitosis                  int64\n",
       "type                     int64\n",
       "dtype: object"
      ]
     },
     "execution_count": 245,
     "metadata": {},
     "output_type": "execute_result"
    }
   ],
   "source": [
    "df.dtypes"
   ]
  },
  {
   "cell_type": "code",
   "execution_count": 246,
   "metadata": {
    "scrolled": false
   },
   "outputs": [
    {
     "data": {
      "text/plain": [
       "ID                       0\n",
       "Clump_Thickness          0\n",
       "Uniformity_C_Size        0\n",
       "Uniformity_C_Shape       0\n",
       "marg_adhesion            0\n",
       "single_epthelial_size    0\n",
       "bare_nuclei              0\n",
       "bland_chromatin          0\n",
       "normal_nucleoli          0\n",
       "mitosis                  0\n",
       "type                     0\n",
       "dtype: int64"
      ]
     },
     "execution_count": 246,
     "metadata": {},
     "output_type": "execute_result"
    }
   ],
   "source": [
    "# Check for Nan\n",
    "df.isnull().sum()"
   ]
  },
  {
   "cell_type": "code",
   "execution_count": 247,
   "metadata": {},
   "outputs": [
    {
     "data": {
      "text/plain": [
       "2    458\n",
       "4    241\n",
       "Name: type, dtype: int64"
      ]
     },
     "execution_count": 247,
     "metadata": {},
     "output_type": "execute_result"
    }
   ],
   "source": [
    "# check to see how each outcome is represented\n",
    "df.type.value_counts()"
   ]
  },
  {
   "cell_type": "code",
   "execution_count": 248,
   "metadata": {},
   "outputs": [
    {
     "data": {
      "image/png": "[encoded data removed]",
      "text/plain": [
       "<Figure size 432x288 with 1 Axes>"
      ]
     },
     "metadata": {
      "needs_background": "light"
     },
     "output_type": "display_data"
    }
   ],
   "source": [
    "import seaborn as sns\n",
    "\n",
    "ax = sns.countplot(x=\"type\", data=df,\n",
    "                   facecolor=(0, 0, 0, 0),\n",
    "                   linewidth=5,\n",
    "                edgecolor=sns.color_palette(\"dark\", 3))"
   ]
  },
  {
   "cell_type": "markdown",
   "metadata": {},
   "source": [
    "# Prepare X and y\n"
   ]
  },
  {
   "cell_type": "code",
   "execution_count": 249,
   "metadata": {},
   "outputs": [
    {
     "data": {
      "text/plain": [
       "Index(['ID', 'Clump_Thickness', 'Uniformity_C_Size', 'Uniformity_C_Shape',\n",
       "       'marg_adhesion', 'single_epthelial_size', 'bare_nuclei',\n",
       "       'bland_chromatin', 'normal_nucleoli', 'mitosis', 'type'],\n",
       "      dtype='object')"
      ]
     },
     "execution_count": 249,
     "metadata": {},
     "output_type": "execute_result"
    }
   ],
   "source": [
    "# Column names\n",
    "\n",
    "df.columns"
   ]
  },
  {
   "cell_type": "code",
   "execution_count": 250,
   "metadata": {},
   "outputs": [],
   "source": [
    "# create a Python list of feature names\n",
    "feature_cols = ['ID', 'Clump_Thickness', 'Uniformity_C_Size', 'Uniformity_C_Shape',\n",
    "       'marg_adhesion', 'single_epthelial_size', 'bare_nuclei',\n",
    "       'bland_chromatin', 'normal_nucleoli', 'mitosis']\n",
    "\n",
    "# use the list to select a subset of the original DataFrame\n",
    "\n",
    "X = df[feature_cols]"
   ]
  },
  {
   "cell_type": "code",
   "execution_count": 251,
   "metadata": {},
   "outputs": [
    {
     "name": "stderr",
     "output_type": "stream",
     "text": [
      "/anaconda3/lib/python3.6/site-packages/pandas/core/frame.py:3697: SettingWithCopyWarning: \n",
      "A value is trying to be set on a copy of a slice from a DataFrame\n",
      "\n",
      "See the caveats in the documentation: http://pandas.pydata.org/pandas-docs/stable/indexing.html#indexing-view-versus-copy\n",
      "  errors=errors)\n"
     ]
    }
   ],
   "source": [
    "#remove the 'ID'\n",
    "\n",
    "X.drop(['ID'],axis=1, inplace=True)\n",
    "\n",
    "# Set y\n",
    "y=df.type"
   ]
  },
  {
   "cell_type": "code",
   "execution_count": 252,
   "metadata": {
    "scrolled": true
   },
   "outputs": [
    {
     "data": {
      "text/html": [
       "<div>\n",
       "<style scoped>\n",
       "    .dataframe tbody tr th:only-of-type {\n",
       "        vertical-align: middle;\n",
       "    }\n",
       "\n",
       "    .dataframe tbody tr th {\n",
       "        vertical-align: top;\n",
       "    }\n",
       "\n",
       "    .dataframe thead th {\n",
       "        text-align: right;\n",
       "    }\n",
       "</style>\n",
       "<table border=\"1\" class=\"dataframe\">\n",
       "  <thead>\n",
       "    <tr style=\"text-align: right;\">\n",
       "      <th></th>\n",
       "      <th>Clump_Thickness</th>\n",
       "      <th>Uniformity_C_Size</th>\n",
       "      <th>Uniformity_C_Shape</th>\n",
       "      <th>marg_adhesion</th>\n",
       "      <th>single_epthelial_size</th>\n",
       "      <th>bare_nuclei</th>\n",
       "      <th>bland_chromatin</th>\n",
       "      <th>normal_nucleoli</th>\n",
       "      <th>mitosis</th>\n",
       "    </tr>\n",
       "  </thead>\n",
       "  <tbody>\n",
       "    <tr>\n",
       "      <th>0</th>\n",
       "      <td>5</td>\n",
       "      <td>1</td>\n",
       "      <td>1</td>\n",
       "      <td>1</td>\n",
       "      <td>2</td>\n",
       "      <td>1</td>\n",
       "      <td>3</td>\n",
       "      <td>1</td>\n",
       "      <td>1</td>\n",
       "    </tr>\n",
       "    <tr>\n",
       "      <th>1</th>\n",
       "      <td>5</td>\n",
       "      <td>4</td>\n",
       "      <td>4</td>\n",
       "      <td>5</td>\n",
       "      <td>7</td>\n",
       "      <td>10</td>\n",
       "      <td>3</td>\n",
       "      <td>2</td>\n",
       "      <td>1</td>\n",
       "    </tr>\n",
       "    <tr>\n",
       "      <th>2</th>\n",
       "      <td>3</td>\n",
       "      <td>1</td>\n",
       "      <td>1</td>\n",
       "      <td>1</td>\n",
       "      <td>2</td>\n",
       "      <td>2</td>\n",
       "      <td>3</td>\n",
       "      <td>1</td>\n",
       "      <td>1</td>\n",
       "    </tr>\n",
       "    <tr>\n",
       "      <th>3</th>\n",
       "      <td>6</td>\n",
       "      <td>8</td>\n",
       "      <td>8</td>\n",
       "      <td>1</td>\n",
       "      <td>3</td>\n",
       "      <td>4</td>\n",
       "      <td>3</td>\n",
       "      <td>7</td>\n",
       "      <td>1</td>\n",
       "    </tr>\n",
       "    <tr>\n",
       "      <th>4</th>\n",
       "      <td>4</td>\n",
       "      <td>1</td>\n",
       "      <td>1</td>\n",
       "      <td>3</td>\n",
       "      <td>2</td>\n",
       "      <td>1</td>\n",
       "      <td>3</td>\n",
       "      <td>1</td>\n",
       "      <td>1</td>\n",
       "    </tr>\n",
       "  </tbody>\n",
       "</table>\n",
       "</div>"
      ],
      "text/plain": [
       "   Clump_Thickness  Uniformity_C_Size  Uniformity_C_Shape  marg_adhesion  \\\n",
       "0                5                  1                   1              1   \n",
       "1                5                  4                   4              5   \n",
       "2                3                  1                   1              1   \n",
       "3                6                  8                   8              1   \n",
       "4                4                  1                   1              3   \n",
       "\n",
       "   single_epthelial_size  bare_nuclei  bland_chromatin  normal_nucleoli  \\\n",
       "0                      2            1                3                1   \n",
       "1                      7           10                3                2   \n",
       "2                      2            2                3                1   \n",
       "3                      3            4                3                7   \n",
       "4                      2            1                3                1   \n",
       "\n",
       "   mitosis  \n",
       "0        1  \n",
       "1        1  \n",
       "2        1  \n",
       "3        1  \n",
       "4        1  "
      ]
     },
     "execution_count": 252,
     "metadata": {},
     "output_type": "execute_result"
    }
   ],
   "source": [
    "# print the first 5 rows\n",
    "X.head()\n"
   ]
  },
  {
   "cell_type": "code",
   "execution_count": 214,
   "metadata": {},
   "outputs": [],
   "source": []
  },
  {
   "cell_type": "markdown",
   "metadata": {},
   "source": [
    "# KNN\n",
    "- Supervised classifier that memorizes observations from within a labeled test set to predict classification labels for new, unlabeld observations.\n",
    "- KNN makes predictions based on how similiar the training observations are to new incoming observations are to \n",
    "- The more similiar the observations values, the more likely they will be classified with the same label."
   ]
  },
  {
   "cell_type": "markdown",
   "metadata": {},
   "source": [
    "# GridSearch - Parameter Tuning"
   ]
  },
  {
   "cell_type": "code",
   "execution_count": 215,
   "metadata": {},
   "outputs": [],
   "source": [
    "# import the packages\n",
    "from sklearn.model_selection import GridSearchCV"
   ]
  },
  {
   "cell_type": "code",
   "execution_count": 225,
   "metadata": {},
   "outputs": [
    {
     "name": "stdout",
     "output_type": "stream",
     "text": [
      "[1, 2, 3, 4, 5, 6, 7, 8, 9, 10, 11, 12, 13, 14, 15, 16, 17, 18, 19, 20, 21, 22, 23, 24, 25, 26, 27, 28, 29, 30]\n"
     ]
    }
   ],
   "source": [
    "# define the parameter values that should be searched\n",
    "# instantiate the classifier\n",
    "\n",
    "\n",
    "k_range = list(range(1, 31))\n",
    "knn = KNeighborsClassifier(n_neighbors=k_range)\n",
    "\n",
    "\n",
    "print(k_range)"
   ]
  },
  {
   "cell_type": "code",
   "execution_count": 226,
   "metadata": {},
   "outputs": [
    {
     "name": "stdout",
     "output_type": "stream",
     "text": [
      "{'n_neighbors': [1, 2, 3, 4, 5, 6, 7, 8, 9, 10, 11, 12, 13, 14, 15, 16, 17, 18, 19, 20, 21, 22, 23, 24, 25, 26, 27, 28, 29, 30]}\n"
     ]
    }
   ],
   "source": [
    "# create a parameter grid: map the parameter names to the values that should be searched\n",
    "# simply a python dictionary\n",
    "# key: parameter name\n",
    "# value: list of values that should be searched for that parameter\n",
    "# single key-value pair for param_grid\n",
    "param_grid = dict(n_neighbors=k_range)\n",
    "print(param_grid)"
   ]
  },
  {
   "cell_type": "code",
   "execution_count": 227,
   "metadata": {},
   "outputs": [],
   "source": [
    "# instantiate the grid\n",
    "grid = GridSearchCV(knn, param_grid, cv=10, scoring='accuracy', return_train_score=True)"
   ]
  },
  {
   "cell_type": "code",
   "execution_count": 228,
   "metadata": {},
   "outputs": [
    {
     "name": "stderr",
     "output_type": "stream",
     "text": [
      "/anaconda3/lib/python3.6/site-packages/sklearn/model_selection/_search.py:841: DeprecationWarning: The default of the `iid` parameter will change from True to False in version 0.22 and will be removed in 0.24. This will change numeric results when test-set sizes are unequal.\n",
      "  DeprecationWarning)\n"
     ]
    },
    {
     "data": {
      "text/plain": [
       "GridSearchCV(cv=10, error_score='raise-deprecating',\n",
       "       estimator=KNeighborsClassifier(algorithm='auto', leaf_size=30, metric='minkowski',\n",
       "           metric_params=None, n_jobs=None,\n",
       "           n_neighbors=[1, 2, 3, 4, 5, 6, 7, 8, 9, 10, 11, 12, 13, 14, 15, 16, 17, 18, 19, 20, 21, 22, 23, 24, 25, 26, 27, 28, 29, 30],\n",
       "           p=2, weights='uniform'),\n",
       "       fit_params=None, iid='warn', n_jobs=None,\n",
       "       param_grid={'n_neighbors': [1, 2, 3, 4, 5, 6, 7, 8, 9, 10, 11, 12, 13, 14, 15, 16, 17, 18, 19, 20, 21, 22, 23, 24, 25, 26, 27, 28, 29, 30]},\n",
       "       pre_dispatch='2*n_jobs', refit=True, return_train_score=True,\n",
       "       scoring='accuracy', verbose=0)"
      ]
     },
     "execution_count": 228,
     "metadata": {},
     "output_type": "execute_result"
    }
   ],
   "source": [
    "# fit the grid with data\n",
    "grid.fit(X, y)"
   ]
  },
  {
   "cell_type": "code",
   "execution_count": 229,
   "metadata": {},
   "outputs": [
    {
     "data": {
      "text/plain": [
       "{'mean_fit_time': array([0.00255215, 0.00186844, 0.00175703, 0.00176353, 0.00183656,\n",
       "        0.00197532, 0.0019371 , 0.00180211, 0.00176251, 0.00173681,\n",
       "        0.00161655, 0.00176668, 0.0017467 , 0.002086  , 0.00214767,\n",
       "        0.00231991, 0.00169678, 0.00172412, 0.00186822, 0.00198424,\n",
       "        0.00166783, 0.00170612, 0.00185103, 0.00167804, 0.00186327,\n",
       "        0.00233822, 0.00183015, 0.0017859 , 0.00170019, 0.00164802]),\n",
       " 'std_fit_time': array([9.23387839e-04, 5.47346799e-04, 4.19265606e-04, 3.50945472e-04,\n",
       "        2.76422308e-04, 4.86904776e-04, 3.64152983e-04, 3.44291225e-04,\n",
       "        1.51075650e-04, 2.26505532e-04, 4.26498852e-05, 3.18181238e-04,\n",
       "        2.56739634e-04, 4.80812159e-04, 3.89495655e-04, 6.47505298e-04,\n",
       "        1.66814711e-04, 1.14477234e-04, 1.02035601e-04, 3.73165632e-04,\n",
       "        4.63752268e-05, 1.04735738e-04, 4.16755919e-04, 6.79353901e-05,\n",
       "        3.08889271e-04, 5.70284182e-04, 2.13718255e-04, 3.26994018e-04,\n",
       "        5.81912744e-05, 2.38780819e-05]),\n",
       " 'mean_score_time': array([0.00180302, 0.00150599, 0.00149393, 0.00136852, 0.00173025,\n",
       "        0.00157897, 0.0016989 , 0.0016434 , 0.00156832, 0.00153909,\n",
       "        0.00143781, 0.0016448 , 0.00151703, 0.00189321, 0.00212557,\n",
       "        0.0021136 , 0.00154319, 0.00165782, 0.00173373, 0.00183995,\n",
       "        0.00164964, 0.00169399, 0.00187616, 0.00164905, 0.00187876,\n",
       "        0.00212848, 0.0019191 , 0.00185535, 0.00171354, 0.00168779]),\n",
       " 'std_score_time': array([4.02289868e-04, 1.92435202e-04, 4.02844113e-04, 7.16096067e-05,\n",
       "        4.80106256e-04, 2.99334218e-04, 3.48923909e-04, 3.38414853e-04,\n",
       "        1.96799337e-04, 1.53554270e-04, 2.66090943e-05, 3.03185383e-04,\n",
       "        6.26199442e-05, 4.31175384e-04, 4.61443242e-04, 5.96500362e-04,\n",
       "        8.65935623e-05, 1.84660021e-04, 1.03764838e-04, 1.95371975e-04,\n",
       "        1.69775975e-04, 1.64192921e-04, 4.37546772e-04, 3.57251287e-05,\n",
       "        2.92316666e-04, 4.21898747e-04, 2.59284541e-04, 4.37060918e-04,\n",
       "        1.05753594e-04, 5.39522280e-05]),\n",
       " 'param_n_neighbors': masked_array(data=[1, 2, 3, 4, 5, 6, 7, 8, 9, 10, 11, 12, 13, 14, 15, 16,\n",
       "                    17, 18, 19, 20, 21, 22, 23, 24, 25, 26, 27, 28, 29, 30],\n",
       "              mask=[False, False, False, False, False, False, False, False,\n",
       "                    False, False, False, False, False, False, False, False,\n",
       "                    False, False, False, False, False, False, False, False,\n",
       "                    False, False, False, False, False, False],\n",
       "        fill_value='?',\n",
       "             dtype=object),\n",
       " 'params': [{'n_neighbors': 1},\n",
       "  {'n_neighbors': 2},\n",
       "  {'n_neighbors': 3},\n",
       "  {'n_neighbors': 4},\n",
       "  {'n_neighbors': 5},\n",
       "  {'n_neighbors': 6},\n",
       "  {'n_neighbors': 7},\n",
       "  {'n_neighbors': 8},\n",
       "  {'n_neighbors': 9},\n",
       "  {'n_neighbors': 10},\n",
       "  {'n_neighbors': 11},\n",
       "  {'n_neighbors': 12},\n",
       "  {'n_neighbors': 13},\n",
       "  {'n_neighbors': 14},\n",
       "  {'n_neighbors': 15},\n",
       "  {'n_neighbors': 16},\n",
       "  {'n_neighbors': 17},\n",
       "  {'n_neighbors': 18},\n",
       "  {'n_neighbors': 19},\n",
       "  {'n_neighbors': 20},\n",
       "  {'n_neighbors': 21},\n",
       "  {'n_neighbors': 22},\n",
       "  {'n_neighbors': 23},\n",
       "  {'n_neighbors': 24},\n",
       "  {'n_neighbors': 25},\n",
       "  {'n_neighbors': 26},\n",
       "  {'n_neighbors': 27},\n",
       "  {'n_neighbors': 28},\n",
       "  {'n_neighbors': 29},\n",
       "  {'n_neighbors': 30}],\n",
       " 'split0_test_score': array([0.87323944, 0.87323944, 0.90140845, 0.90140845, 0.90140845,\n",
       "        0.90140845, 0.91549296, 0.90140845, 0.90140845, 0.90140845,\n",
       "        0.90140845, 0.90140845, 0.90140845, 0.90140845, 0.90140845,\n",
       "        0.90140845, 0.90140845, 0.90140845, 0.90140845, 0.90140845,\n",
       "        0.90140845, 0.90140845, 0.90140845, 0.88732394, 0.90140845,\n",
       "        0.88732394, 0.90140845, 0.88732394, 0.90140845, 0.88732394]),\n",
       " 'split1_test_score': array([0.92857143, 0.91428571, 0.97142857, 0.97142857, 0.98571429,\n",
       "        0.95714286, 0.97142857, 0.94285714, 0.95714286, 0.92857143,\n",
       "        0.94285714, 0.92857143, 0.95714286, 0.94285714, 0.95714286,\n",
       "        0.94285714, 0.94285714, 0.92857143, 0.92857143, 0.92857143,\n",
       "        0.92857143, 0.91428571, 0.91428571, 0.91428571, 0.91428571,\n",
       "        0.91428571, 0.91428571, 0.9       , 0.9       , 0.9       ]),\n",
       " 'split2_test_score': array([0.97142857, 0.95714286, 0.97142857, 0.97142857, 0.97142857,\n",
       "        0.98571429, 0.98571429, 0.98571429, 0.97142857, 0.98571429,\n",
       "        0.98571429, 0.98571429, 0.97142857, 0.97142857, 0.97142857,\n",
       "        0.98571429, 0.97142857, 0.97142857, 0.97142857, 0.98571429,\n",
       "        0.98571429, 0.98571429, 0.98571429, 0.98571429, 0.98571429,\n",
       "        0.98571429, 0.98571429, 0.98571429, 0.98571429, 0.98571429]),\n",
       " 'split3_test_score': array([0.91428571, 0.91428571, 0.91428571, 0.92857143, 0.92857143,\n",
       "        0.92857143, 0.92857143, 0.92857143, 0.92857143, 0.92857143,\n",
       "        0.92857143, 0.92857143, 0.92857143, 0.92857143, 0.92857143,\n",
       "        0.92857143, 0.92857143, 0.92857143, 0.92857143, 0.92857143,\n",
       "        0.92857143, 0.92857143, 0.92857143, 0.92857143, 0.92857143,\n",
       "        0.92857143, 0.92857143, 0.92857143, 0.92857143, 0.92857143]),\n",
       " 'split4_test_score': array([0.98571429, 0.97142857, 1.        , 1.        , 1.        ,\n",
       "        1.        , 0.98571429, 1.        , 1.        , 1.        ,\n",
       "        1.        , 1.        , 0.98571429, 0.98571429, 0.98571429,\n",
       "        0.98571429, 0.98571429, 0.98571429, 0.98571429, 0.98571429,\n",
       "        0.98571429, 0.98571429, 0.98571429, 0.98571429, 0.98571429,\n",
       "        0.98571429, 0.98571429, 0.98571429, 0.98571429, 0.98571429]),\n",
       " 'split5_test_score': array([0.92857143, 0.91428571, 0.95714286, 0.95714286, 0.95714286,\n",
       "        0.95714286, 0.95714286, 0.94285714, 0.94285714, 0.95714286,\n",
       "        0.95714286, 0.95714286, 0.95714286, 0.95714286, 0.95714286,\n",
       "        0.95714286, 0.95714286, 0.95714286, 0.95714286, 0.95714286,\n",
       "        0.95714286, 0.95714286, 0.95714286, 0.95714286, 0.95714286,\n",
       "        0.95714286, 0.95714286, 0.95714286, 0.95714286, 0.95714286]),\n",
       " 'split6_test_score': array([0.98571429, 0.97142857, 0.97142857, 0.97142857, 0.98571429,\n",
       "        0.97142857, 0.98571429, 0.97142857, 0.98571429, 0.98571429,\n",
       "        0.98571429, 0.97142857, 0.97142857, 0.97142857, 0.97142857,\n",
       "        0.97142857, 0.97142857, 0.97142857, 0.97142857, 0.97142857,\n",
       "        0.97142857, 0.97142857, 0.97142857, 0.97142857, 0.97142857,\n",
       "        0.97142857, 0.97142857, 0.97142857, 0.97142857, 0.97142857]),\n",
       " 'split7_test_score': array([1.        , 0.98571429, 1.        , 1.        , 1.        ,\n",
       "        1.        , 1.        , 0.98571429, 1.        , 0.98571429,\n",
       "        1.        , 1.        , 1.        , 1.        , 1.        ,\n",
       "        1.        , 1.        , 1.        , 1.        , 1.        ,\n",
       "        1.        , 0.98571429, 0.98571429, 0.98571429, 0.98571429,\n",
       "        0.98571429, 0.98571429, 0.98571429, 0.98571429, 0.98571429]),\n",
       " 'split8_test_score': array([1.        , 0.94202899, 0.97101449, 0.97101449, 0.98550725,\n",
       "        0.98550725, 0.98550725, 0.98550725, 0.98550725, 0.98550725,\n",
       "        0.98550725, 0.98550725, 0.98550725, 0.98550725, 0.98550725,\n",
       "        0.98550725, 0.98550725, 0.98550725, 0.98550725, 0.98550725,\n",
       "        0.98550725, 0.98550725, 0.98550725, 0.98550725, 0.98550725,\n",
       "        0.98550725, 0.98550725, 0.98550725, 0.98550725, 0.98550725]),\n",
       " 'split9_test_score': array([0.98550725, 0.98550725, 0.97101449, 0.98550725, 0.97101449,\n",
       "        0.98550725, 1.        , 1.        , 1.        , 1.        ,\n",
       "        1.        , 1.        , 1.        , 1.        , 1.        ,\n",
       "        1.        , 1.        , 1.        , 1.        , 1.        ,\n",
       "        1.        , 1.        , 1.        , 1.        , 1.        ,\n",
       "        1.        , 1.        , 1.        , 1.        , 1.        ]),\n",
       " 'mean_test_score': array([0.95708155, 0.94277539, 0.96280401, 0.96566524, 0.96852647,\n",
       "        0.96709585, 0.9713877 , 0.96423462, 0.96709585, 0.96566524,\n",
       "        0.96852647, 0.96566524, 0.96566524, 0.96423462, 0.96566524,\n",
       "        0.96566524, 0.96423462, 0.96280401, 0.96280401, 0.96423462,\n",
       "        0.96423462, 0.96137339, 0.96137339, 0.95994278, 0.96137339,\n",
       "        0.95994278, 0.96137339, 0.95851216, 0.95994278, 0.95851216]),\n",
       " 'std_test_score': array([0.04112283, 0.03584735, 0.03057093, 0.02919309, 0.03029694,\n",
       "        0.03044837, 0.02766557, 0.03188183, 0.03239493, 0.03311042,\n",
       "        0.03286668, 0.03372202, 0.02986513, 0.03057289, 0.02986513,\n",
       "        0.03120378, 0.03057289, 0.03184742, 0.03184742, 0.03251654,\n",
       "        0.03251654, 0.03301093, 0.03301093, 0.03576867, 0.03301093,\n",
       "        0.03576867, 0.03301093, 0.03779449, 0.03525394, 0.03779449]),\n",
       " 'rank_test_score': array([29, 30, 17,  6,  2,  4,  1, 12,  4,  6,  2,  6,  6, 12,  6,  6, 12,\n",
       "        17, 17, 12, 12, 20, 20, 24, 20, 24, 20, 27, 24, 27], dtype=int32),\n",
       " 'split0_train_score': array([1.        , 0.98248408, 0.98566879, 0.97770701, 0.98248408,\n",
       "        0.97611465, 0.97929936, 0.97611465, 0.97611465, 0.97292994,\n",
       "        0.97611465, 0.96815287, 0.97452229, 0.97292994, 0.97452229,\n",
       "        0.96974522, 0.97292994, 0.96974522, 0.97133758, 0.96974522,\n",
       "        0.96974522, 0.96974522, 0.96974522, 0.96815287, 0.96974522,\n",
       "        0.96974522, 0.96974522, 0.96974522, 0.96974522, 0.96815287]),\n",
       " 'split1_train_score': array([1.        , 0.9809221 , 0.97933227, 0.96979332, 0.9809221 ,\n",
       "        0.97615262, 0.97774245, 0.97297297, 0.97297297, 0.96979332,\n",
       "        0.97297297, 0.96979332, 0.96979332, 0.9682035 , 0.96979332,\n",
       "        0.9682035 , 0.9682035 , 0.9682035 , 0.96979332, 0.9682035 ,\n",
       "        0.9682035 , 0.9682035 , 0.9682035 , 0.9682035 , 0.9682035 ,\n",
       "        0.96661367, 0.96661367, 0.96661367, 0.96661367, 0.96661367]),\n",
       " 'split2_train_score': array([1.        , 0.97615262, 0.98251192, 0.97138315, 0.97774245,\n",
       "        0.97933227, 0.97933227, 0.97615262, 0.9745628 , 0.96979332,\n",
       "        0.97615262, 0.9682035 , 0.96979332, 0.9682035 , 0.96979332,\n",
       "        0.9682035 , 0.9682035 , 0.96502385, 0.96502385, 0.96502385,\n",
       "        0.96661367, 0.96343402, 0.96343402, 0.96025437, 0.96025437,\n",
       "        0.96025437, 0.96025437, 0.96025437, 0.95866455, 0.96025437]),\n",
       " 'split3_train_score': array([1.        , 0.98410175, 0.98251192, 0.9745628 , 0.98251192,\n",
       "        0.97933227, 0.98251192, 0.97933227, 0.9809221 , 0.97774245,\n",
       "        0.97774245, 0.9745628 , 0.97774245, 0.97297297, 0.97615262,\n",
       "        0.97297297, 0.97138315, 0.96979332, 0.97138315, 0.9682035 ,\n",
       "        0.97138315, 0.97138315, 0.97138315, 0.96661367, 0.96979332,\n",
       "        0.96502385, 0.96502385, 0.96502385, 0.96502385, 0.96661367]),\n",
       " 'split4_train_score': array([1.        , 0.9745628 , 0.97297297, 0.96502385, 0.9745628 ,\n",
       "        0.97138315, 0.97615262, 0.9682035 , 0.97297297, 0.9682035 ,\n",
       "        0.96979332, 0.9682035 , 0.96661367, 0.9682035 , 0.9682035 ,\n",
       "        0.96661367, 0.9682035 , 0.96661367, 0.96661367, 0.96502385,\n",
       "        0.96502385, 0.96502385, 0.96502385, 0.96343402, 0.96502385,\n",
       "        0.96343402, 0.96343402, 0.96343402, 0.96343402, 0.96025437]),\n",
       " 'split5_train_score': array([1.        , 0.97615262, 0.97933227, 0.97933227, 0.97774245,\n",
       "        0.97774245, 0.97615262, 0.97933227, 0.97615262, 0.96979332,\n",
       "        0.97297297, 0.9682035 , 0.96502385, 0.96343402, 0.96661367,\n",
       "        0.96502385, 0.96661367, 0.96661367, 0.9682035 , 0.96661367,\n",
       "        0.97297297, 0.96502385, 0.96502385, 0.96343402, 0.96502385,\n",
       "        0.96343402, 0.96502385, 0.9618442 , 0.96343402, 0.96343402]),\n",
       " 'split6_train_score': array([1.        , 0.97297297, 0.97774245, 0.97138315, 0.9745628 ,\n",
       "        0.9745628 , 0.9745628 , 0.9745628 , 0.97297297, 0.96661367,\n",
       "        0.9682035 , 0.96661367, 0.9682035 , 0.96661367, 0.96502385,\n",
       "        0.96343402, 0.96661367, 0.96661367, 0.96502385, 0.96343402,\n",
       "        0.96343402, 0.96343402, 0.9618442 , 0.96343402, 0.9618442 ,\n",
       "        0.96343402, 0.9618442 , 0.9618442 , 0.9618442 , 0.96025437]),\n",
       " 'split7_train_score': array([1.        , 0.9745628 , 0.97615262, 0.96661367, 0.9745628 ,\n",
       "        0.9745628 , 0.97615262, 0.97138315, 0.9745628 , 0.9682035 ,\n",
       "        0.96979332, 0.96661367, 0.97297297, 0.96661367, 0.96502385,\n",
       "        0.9618442 , 0.96661367, 0.96502385, 0.96661367, 0.96343402,\n",
       "        0.96343402, 0.96502385, 0.96661367, 0.96025437, 0.96343402,\n",
       "        0.96025437, 0.96025437, 0.96025437, 0.96025437, 0.96025437]),\n",
       " 'split8_train_score': array([1.        , 0.97142857, 0.97619048, 0.96984127, 0.97619048,\n",
       "        0.97301587, 0.97619048, 0.97142857, 0.97301587, 0.96666667,\n",
       "        0.96984127, 0.96666667, 0.96984127, 0.96190476, 0.96507937,\n",
       "        0.96666667, 0.96825397, 0.96825397, 0.96666667, 0.96507937,\n",
       "        0.96825397, 0.96190476, 0.96349206, 0.96031746, 0.96031746,\n",
       "        0.96031746, 0.96031746, 0.96031746, 0.96031746, 0.96031746]),\n",
       " 'split9_train_score': array([1.        , 0.97619048, 0.97619048, 0.97142857, 0.97460317,\n",
       "        0.97460317, 0.97936508, 0.97142857, 0.97460317, 0.96666667,\n",
       "        0.96984127, 0.96825397, 0.97142857, 0.96666667, 0.96666667,\n",
       "        0.96349206, 0.96666667, 0.96507937, 0.96507937, 0.96190476,\n",
       "        0.96666667, 0.96666667, 0.96507937, 0.96349206, 0.96349206,\n",
       "        0.95873016, 0.95873016, 0.95873016, 0.95873016, 0.96031746]),\n",
       " 'mean_train_score': array([1.        , 0.97695308, 0.97886062, 0.97170691, 0.9775885 ,\n",
       "        0.97568021, 0.97774622, 0.97409114, 0.97488529, 0.96964064,\n",
       "        0.97234283, 0.96852675, 0.97059352, 0.96757462, 0.96868725,\n",
       "        0.96661997, 0.96836852, 0.96709641, 0.96757386, 0.96566658,\n",
       "        0.9675731 , 0.96598429, 0.96598429, 0.96375904, 0.96471319,\n",
       "        0.96312412, 0.96312412, 0.96280615, 0.96280615, 0.96264666]),\n",
       " 'std_train_score': array([0.        , 0.00396358, 0.00361894, 0.00424661, 0.00312567,\n",
       "        0.0024609 , 0.00224574, 0.00347753, 0.00233053, 0.00327889,\n",
       "        0.00318341, 0.00222138, 0.0035682 , 0.00333123, 0.00375101,\n",
       "        0.00316915, 0.00205242, 0.00173821, 0.00236418, 0.00235998,\n",
       "        0.00302917, 0.00284781, 0.00284838, 0.00289838, 0.00337737,\n",
       "        0.0032182 , 0.0032958 , 0.00325025, 0.00340223, 0.00310089])}"
      ]
     },
     "execution_count": 229,
     "metadata": {},
     "output_type": "execute_result"
    }
   ],
   "source": [
    "# view the complete results (list of named tuples)\n",
    "grid.cv_results_\n"
   ]
  },
  {
   "cell_type": "markdown",
   "metadata": {},
   "source": [
    "# Print Tuple of Mean accuracy, Std, and n_neighbors"
   ]
  },
  {
   "cell_type": "code",
   "execution_count": 230,
   "metadata": {},
   "outputs": [
    {
     "ename": "IndentationError",
     "evalue": "expected an indented block (<ipython-input-230-effb194b6372>, line 7)",
     "output_type": "error",
     "traceback": [
      "\u001b[0;36m  File \u001b[0;32m\"<ipython-input-230-effb194b6372>\"\u001b[0;36m, line \u001b[0;32m7\u001b[0m\n\u001b[0;31m    print(\"Mean: %f Std:(%f) with: %r\" % (mean, stdev, param))\u001b[0m\n\u001b[0m        ^\u001b[0m\n\u001b[0;31mIndentationError\u001b[0m\u001b[0;31m:\u001b[0m expected an indented block\n"
     ]
    }
   ],
   "source": [
    "    \n",
    "print(\"Best: %f using %s\" % (grid.best_score_, grid.best_params_))\n",
    "means = grid.cv_results_['mean_test_score']\n",
    "stds = grid.cv_results_['std_test_score']\n",
    "params = grid.cv_results_['params']\n",
    "for mean, stdev, param in zip(means, stds, params):\n",
    "    print(\"Mean: %f Std:(%f) with: %r\" % (mean, stdev, param))"
   ]
  },
  {
   "cell_type": "code",
   "execution_count": null,
   "metadata": {},
   "outputs": [],
   "source": [
    "# Array of 10 accuracy scores during 10-fold cv using the parameters for each iteration\n",
    "print('')\n",
    "print('CV Validation Score')\n",
    "print(grid.cv_results_['mean_test_score'])\n",
    "\n",
    "# Mean of the 10 scores\n",
    "print('')\n",
    "print('Mean Validation Score')\n",
    "print(grid.cv_results_['mean_test_score'].mean())"
   ]
  },
  {
   "cell_type": "markdown",
   "metadata": {},
   "source": [
    "# The Best Model"
   ]
  },
  {
   "cell_type": "code",
   "execution_count": null,
   "metadata": {},
   "outputs": [],
   "source": [
    "# examine the best model\n",
    "print('The Best Model')\n",
    "# Single best score achieved across all params (k)\n",
    "print(\"Accuracy:\",grid.best_score_)\n",
    "\n",
    "# Dictionary containing the parameters (k) used to generate that score\n",
    "print(\"Parameters: \",grid.best_params_)\n",
    "\n",
    "# Actual model object fit with those best parameters\n",
    "# Shows default parameters that we did not specify\n",
    "print(\"Estimator\",grid.best_estimator_)"
   ]
  },
  {
   "cell_type": "markdown",
   "metadata": {},
   "source": [
    "### Examine the test and train accuracy of cross validate - it is a high performing model"
   ]
  },
  {
   "cell_type": "code",
   "execution_count": null,
   "metadata": {},
   "outputs": [],
   "source": [
    "print(\"Accuracy of training: \",cross_scores['train_score'].mean())\n",
    "print(\"Accuracy of test:\", cross_scores['test_score'].mean())"
   ]
  },
  {
   "cell_type": "markdown",
   "metadata": {},
   "source": [
    "#### Test Accuracy from each iteration"
   ]
  },
  {
   "cell_type": "code",
   "execution_count": null,
   "metadata": {},
   "outputs": [],
   "source": [
    "print(cross_scores['test_score'])"
   ]
  },
  {
   "cell_type": "markdown",
   "metadata": {},
   "source": [
    "# Predict the \"type\" with a new observation with the best model"
   ]
  },
  {
   "cell_type": "code",
   "execution_count": 231,
   "metadata": {},
   "outputs": [
    {
     "data": {
      "text/plain": [
       "(array([[1.        , 4.12310563, 4.58257569, 4.58257569, 4.89897949,\n",
       "         5.91607978, 6.        ]]),\n",
       " array([[  3,  56, 427,  49,  55, 259, 574]]))"
      ]
     },
     "execution_count": 231,
     "metadata": {},
     "output_type": "execute_result"
    }
   ],
   "source": [
    "# Create a set of values, a sample X\n",
    "test = np.array([7,8,8,1,3,4,3,7,1])\n",
    "\n",
    "test1 = test.reshape(1,-1)\n",
    "\n",
    "# Identify the 7 nearest neighbors\n",
    "grid.best_estimator_.kneighbors(test1,7)"
   ]
  },
  {
   "cell_type": "code",
   "execution_count": 232,
   "metadata": {},
   "outputs": [
    {
     "data": {
      "text/html": [
       "<div>\n",
       "<style scoped>\n",
       "    .dataframe tbody tr th:only-of-type {\n",
       "        vertical-align: middle;\n",
       "    }\n",
       "\n",
       "    .dataframe tbody tr th {\n",
       "        vertical-align: top;\n",
       "    }\n",
       "\n",
       "    .dataframe thead th {\n",
       "        text-align: right;\n",
       "    }\n",
       "</style>\n",
       "<table border=\"1\" class=\"dataframe\">\n",
       "  <thead>\n",
       "    <tr style=\"text-align: right;\">\n",
       "      <th></th>\n",
       "      <th>3</th>\n",
       "      <th>56</th>\n",
       "      <th>427</th>\n",
       "      <th>49</th>\n",
       "      <th>55</th>\n",
       "      <th>292</th>\n",
       "      <th>259</th>\n",
       "    </tr>\n",
       "  </thead>\n",
       "  <tbody>\n",
       "    <tr>\n",
       "      <th>ID</th>\n",
       "      <td>1016277</td>\n",
       "      <td>1112209</td>\n",
       "      <td>1266154</td>\n",
       "      <td>1106829</td>\n",
       "      <td>1111249</td>\n",
       "      <td>563649</td>\n",
       "      <td>242970</td>\n",
       "    </tr>\n",
       "    <tr>\n",
       "      <th>Clump_Thickness</th>\n",
       "      <td>6</td>\n",
       "      <td>8</td>\n",
       "      <td>8</td>\n",
       "      <td>7</td>\n",
       "      <td>10</td>\n",
       "      <td>8</td>\n",
       "      <td>5</td>\n",
       "    </tr>\n",
       "    <tr>\n",
       "      <th>Uniformity_C_Size</th>\n",
       "      <td>8</td>\n",
       "      <td>10</td>\n",
       "      <td>7</td>\n",
       "      <td>8</td>\n",
       "      <td>6</td>\n",
       "      <td>8</td>\n",
       "      <td>7</td>\n",
       "    </tr>\n",
       "    <tr>\n",
       "      <th>Uniformity_C_Shape</th>\n",
       "      <td>8</td>\n",
       "      <td>10</td>\n",
       "      <td>8</td>\n",
       "      <td>7</td>\n",
       "      <td>6</td>\n",
       "      <td>8</td>\n",
       "      <td>7</td>\n",
       "    </tr>\n",
       "    <tr>\n",
       "      <th>marg_adhesion</th>\n",
       "      <td>1</td>\n",
       "      <td>1</td>\n",
       "      <td>2</td>\n",
       "      <td>2</td>\n",
       "      <td>3</td>\n",
       "      <td>1</td>\n",
       "      <td>1</td>\n",
       "    </tr>\n",
       "    <tr>\n",
       "      <th>single_epthelial_size</th>\n",
       "      <td>3</td>\n",
       "      <td>3</td>\n",
       "      <td>4</td>\n",
       "      <td>4</td>\n",
       "      <td>4</td>\n",
       "      <td>2</td>\n",
       "      <td>5</td>\n",
       "    </tr>\n",
       "    <tr>\n",
       "      <th>bare_nuclei</th>\n",
       "      <td>4</td>\n",
       "      <td>6</td>\n",
       "      <td>2</td>\n",
       "      <td>8</td>\n",
       "      <td>5</td>\n",
       "      <td>-99999</td>\n",
       "      <td>8</td>\n",
       "    </tr>\n",
       "    <tr>\n",
       "      <th>bland_chromatin</th>\n",
       "      <td>3</td>\n",
       "      <td>3</td>\n",
       "      <td>5</td>\n",
       "      <td>3</td>\n",
       "      <td>3</td>\n",
       "      <td>6</td>\n",
       "      <td>3</td>\n",
       "    </tr>\n",
       "    <tr>\n",
       "      <th>normal_nucleoli</th>\n",
       "      <td>7</td>\n",
       "      <td>9</td>\n",
       "      <td>10</td>\n",
       "      <td>8</td>\n",
       "      <td>6</td>\n",
       "      <td>10</td>\n",
       "      <td>4</td>\n",
       "    </tr>\n",
       "    <tr>\n",
       "      <th>mitosis</th>\n",
       "      <td>1</td>\n",
       "      <td>1</td>\n",
       "      <td>1</td>\n",
       "      <td>2</td>\n",
       "      <td>1</td>\n",
       "      <td>1</td>\n",
       "      <td>1</td>\n",
       "    </tr>\n",
       "    <tr>\n",
       "      <th>type</th>\n",
       "      <td>2</td>\n",
       "      <td>4</td>\n",
       "      <td>4</td>\n",
       "      <td>4</td>\n",
       "      <td>4</td>\n",
       "      <td>4</td>\n",
       "      <td>2</td>\n",
       "    </tr>\n",
       "  </tbody>\n",
       "</table>\n",
       "</div>"
      ],
      "text/plain": [
       "                           3        56       427      49       55      292  \\\n",
       "ID                     1016277  1112209  1266154  1106829  1111249  563649   \n",
       "Clump_Thickness              6        8        8        7       10       8   \n",
       "Uniformity_C_Size            8       10        7        8        6       8   \n",
       "Uniformity_C_Shape           8       10        8        7        6       8   \n",
       "marg_adhesion                1        1        2        2        3       1   \n",
       "single_epthelial_size        3        3        4        4        4       2   \n",
       "bare_nuclei                  4        6        2        8        5  -99999   \n",
       "bland_chromatin              3        3        5        3        3       6   \n",
       "normal_nucleoli              7        9       10        8        6      10   \n",
       "mitosis                      1        1        1        2        1       1   \n",
       "type                         2        4        4        4        4       4   \n",
       "\n",
       "                          259  \n",
       "ID                     242970  \n",
       "Clump_Thickness             5  \n",
       "Uniformity_C_Size           7  \n",
       "Uniformity_C_Shape          7  \n",
       "marg_adhesion               1  \n",
       "single_epthelial_size       5  \n",
       "bare_nuclei                 8  \n",
       "bland_chromatin             3  \n",
       "normal_nucleoli             4  \n",
       "mitosis                     1  \n",
       "type                        2  "
      ]
     },
     "execution_count": 232,
     "metadata": {},
     "output_type": "execute_result"
    }
   ],
   "source": [
    "# Show the neighbors from above\n",
    "df.loc[[  3,  56, 427,  49,  55, 292, 259]].transpose()\n"
   ]
  },
  {
   "cell_type": "markdown",
   "metadata": {},
   "source": [
    "#### The majority of instances above indicates that that the KNN model should predict a 'type' 4. Let's check below to find the prediction:"
   ]
  },
  {
   "cell_type": "code",
   "execution_count": 233,
   "metadata": {},
   "outputs": [
    {
     "name": "stdout",
     "output_type": "stream",
     "text": [
      "Predicted value: [4]\n"
     ]
    }
   ],
   "source": [
    "# Based on the above, our classifier will take the majority of observations and label our\n",
    "# new data with that majority label\n",
    "\n",
    "print(\"Predicted value:\", grid.best_estimator_.predict(test1))"
   ]
  },
  {
   "cell_type": "markdown",
   "metadata": {},
   "source": [
    "#### Our model is working.\n",
    "\n",
    "\n",
    "### Now we'll create the best model using test, train, split to derive a confusion matrix and classification report\n"
   ]
  },
  {
   "cell_type": "code",
   "execution_count": 234,
   "metadata": {},
   "outputs": [],
   "source": [
    "# Test, Train, split\n",
    "X_train, X_test, y_train, y_test = train_test_split(X, y, test_size=0.2, random_state=42)"
   ]
  },
  {
   "cell_type": "code",
   "execution_count": 235,
   "metadata": {},
   "outputs": [
    {
     "name": "stdout",
     "output_type": "stream",
     "text": [
      "Accuracy: 0.9714285714285714\n"
     ]
    }
   ],
   "source": [
    "#KNN \n",
    "from sklearn.neighbors import KNeighborsClassifier\n",
    "clf = KNeighborsClassifier(n_neighbors = 7)\n",
    "\n",
    "# Fit the model\n",
    "clf.fit( X_train, y_train )\n",
    "\n",
    "# Derive the accuracy\n",
    "y_pred_knn = clf.predict(X_test)\n",
    "accuracy = (metrics.accuracy_score(y_test, y_pred_knn))\n",
    "print(\"Accuracy:\",accuracy)"
   ]
  },
  {
   "cell_type": "code",
   "execution_count": 236,
   "metadata": {},
   "outputs": [
    {
     "name": "stdout",
     "output_type": "stream",
     "text": [
      "\n",
      " Classification report:\n",
      "               precision    recall  f1-score   support\n",
      "\n",
      "           2       0.97      0.99      0.98        95\n",
      "           4       0.98      0.93      0.95        45\n",
      "\n",
      "   micro avg       0.97      0.97      0.97       140\n",
      "   macro avg       0.97      0.96      0.97       140\n",
      "weighted avg       0.97      0.97      0.97       140\n",
      "\n",
      "\n",
      " Confussion matrix:\n",
      " [[94  1]\n",
      " [ 3 42]]\n"
     ]
    }
   ],
   "source": [
    "# Classification Report and Confusion Matrix\n",
    "print ('\\n Classification report:\\n', metrics.classification_report(y_test, y_pred_knn))\n",
    "print ('\\n Confussion matrix:\\n',metrics.confusion_matrix(y_test, y_pred_knn))"
   ]
  },
  {
   "cell_type": "markdown",
   "metadata": {},
   "source": [
    "#### Precision: TP/ TP + FP\n",
    "    -Out of all the predicted type 2s, 0.97 were actually type 2\n",
    "#### Recall: TP /  TP + FN\n",
    "    -Out of all the type 2 observations in the test set, 0.99 were identified"
   ]
  },
  {
   "cell_type": "markdown",
   "metadata": {},
   "source": [
    "# Summary & Conclusions"
   ]
  },
  {
   "cell_type": "markdown",
   "metadata": {},
   "source": [
    "We ran a KNN model on the Breast Cancer Women dataset from UCI. \n",
    "\n",
    "We used Grid Search to identify the best hyper parameters for the best model.\n",
    "\n",
    "Using the best model, we then used a test value to make a prediction and identify its 7 nearest neighbors. This helped ensure that our model was working.\n",
    "\n",
    "We have discovered a good model, with an accuracy of 0.9672 and 7 neighbors."
   ]
  },
  {
   "cell_type": "code",
   "execution_count": null,
   "metadata": {},
   "outputs": [],
   "source": []
  }
 ],
 "metadata": {
  "kernelspec": {
   "display_name": "Python 3",
   "language": "python",
   "name": "python3"
  },
  "language_info": {
   "codemirror_mode": {
    "name": "ipython",
    "version": 3
   },
   "file_extension": ".py",
   "mimetype": "text/x-python",
   "name": "python",
   "nbconvert_exporter": "python",
   "pygments_lexer": "ipython3",
   "version": "3.6.6"
  }
 },
 "nbformat": 4,
 "nbformat_minor": 2
}
